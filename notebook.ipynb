{
 "cells": [
  {
   "cell_type": "code",
   "execution_count": 1,
   "metadata": {},
   "outputs": [],
   "source": [
    "import glob\n",
    "import os\n",
    "\n",
    "import matplotlib.pyplot as plt\n",
    "import pandas as pd\n",
    "import numpy as np\n",
    "import seaborn as sns\n",
    "\n",
    "from sklearn.tree import DecisionTreeRegressor\n",
    "from sklearn.linear_model import LinearRegression\n",
    "from sklearn.svm import LinearSVR, NuSVR, SVR\n",
    "from sklearn.model_selection import (\n",
    "    train_test_split,\n",
    "    LearningCurveDisplay,\n",
    "    learning_curve,\n",
    ")\n",
    "from sklearn.neural_network import MLPRegressor\n",
    "\n",
    "seed = 23"
   ]
  },
  {
   "cell_type": "code",
   "execution_count": 2,
   "metadata": {},
   "outputs": [],
   "source": [
    "def learning_curve_display(model, X, y):\n",
    "    train_sizes, train_scores, test_scores = learning_curve(model, X, y)\n",
    "\n",
    "    display = LearningCurveDisplay(\n",
    "        train_sizes=train_sizes,\n",
    "        train_scores=train_scores,\n",
    "        test_scores=test_scores,\n",
    "        score_name=\"Score\",\n",
    "    )\n",
    "\n",
    "    display.plot()"
   ]
  },
  {
   "cell_type": "markdown",
   "metadata": {},
   "source": [
    "# EDA"
   ]
  },
  {
   "cell_type": "code",
   "execution_count": 3,
   "metadata": {},
   "outputs": [],
   "source": [
    "sns.set_theme(style=\"darkgrid\")"
   ]
  },
  {
   "cell_type": "code",
   "execution_count": 4,
   "metadata": {},
   "outputs": [
    {
     "data": {
      "text/plain": [
       "['data/insurance.csv']"
      ]
     },
     "execution_count": 4,
     "metadata": {},
     "output_type": "execute_result"
    }
   ],
   "source": [
    "paths = glob.glob(\"data/*.csv\")\n",
    "paths"
   ]
  },
  {
   "cell_type": "code",
   "execution_count": 5,
   "metadata": {},
   "outputs": [
    {
     "data": {
      "text/plain": [
       "'data/insurance.csv'"
      ]
     },
     "execution_count": 5,
     "metadata": {},
     "output_type": "execute_result"
    }
   ],
   "source": [
    "data_path = paths[-1]\n",
    "data_path"
   ]
  },
  {
   "cell_type": "markdown",
   "metadata": {},
   "source": [
    "Explore dataset"
   ]
  },
  {
   "cell_type": "code",
   "execution_count": 6,
   "metadata": {},
   "outputs": [
    {
     "data": {
      "text/html": [
       "<div>\n",
       "<style scoped>\n",
       "    .dataframe tbody tr th:only-of-type {\n",
       "        vertical-align: middle;\n",
       "    }\n",
       "\n",
       "    .dataframe tbody tr th {\n",
       "        vertical-align: top;\n",
       "    }\n",
       "\n",
       "    .dataframe thead th {\n",
       "        text-align: right;\n",
       "    }\n",
       "</style>\n",
       "<table border=\"1\" class=\"dataframe\">\n",
       "  <thead>\n",
       "    <tr style=\"text-align: right;\">\n",
       "      <th></th>\n",
       "      <th>age</th>\n",
       "      <th>sex</th>\n",
       "      <th>bmi</th>\n",
       "      <th>children</th>\n",
       "      <th>smoker</th>\n",
       "      <th>region</th>\n",
       "      <th>charges</th>\n",
       "    </tr>\n",
       "  </thead>\n",
       "  <tbody>\n",
       "    <tr>\n",
       "      <th>0</th>\n",
       "      <td>19</td>\n",
       "      <td>female</td>\n",
       "      <td>27.900</td>\n",
       "      <td>0</td>\n",
       "      <td>yes</td>\n",
       "      <td>southwest</td>\n",
       "      <td>16884.92400</td>\n",
       "    </tr>\n",
       "    <tr>\n",
       "      <th>1</th>\n",
       "      <td>18</td>\n",
       "      <td>male</td>\n",
       "      <td>33.770</td>\n",
       "      <td>1</td>\n",
       "      <td>no</td>\n",
       "      <td>southeast</td>\n",
       "      <td>1725.55230</td>\n",
       "    </tr>\n",
       "    <tr>\n",
       "      <th>2</th>\n",
       "      <td>28</td>\n",
       "      <td>male</td>\n",
       "      <td>33.000</td>\n",
       "      <td>3</td>\n",
       "      <td>no</td>\n",
       "      <td>southeast</td>\n",
       "      <td>4449.46200</td>\n",
       "    </tr>\n",
       "    <tr>\n",
       "      <th>3</th>\n",
       "      <td>33</td>\n",
       "      <td>male</td>\n",
       "      <td>22.705</td>\n",
       "      <td>0</td>\n",
       "      <td>no</td>\n",
       "      <td>northwest</td>\n",
       "      <td>21984.47061</td>\n",
       "    </tr>\n",
       "    <tr>\n",
       "      <th>4</th>\n",
       "      <td>32</td>\n",
       "      <td>male</td>\n",
       "      <td>28.880</td>\n",
       "      <td>0</td>\n",
       "      <td>no</td>\n",
       "      <td>northwest</td>\n",
       "      <td>3866.85520</td>\n",
       "    </tr>\n",
       "  </tbody>\n",
       "</table>\n",
       "</div>"
      ],
      "text/plain": [
       "   age     sex     bmi  children smoker     region      charges\n",
       "0   19  female  27.900         0    yes  southwest  16884.92400\n",
       "1   18    male  33.770         1     no  southeast   1725.55230\n",
       "2   28    male  33.000         3     no  southeast   4449.46200\n",
       "3   33    male  22.705         0     no  northwest  21984.47061\n",
       "4   32    male  28.880         0     no  northwest   3866.85520"
      ]
     },
     "execution_count": 6,
     "metadata": {},
     "output_type": "execute_result"
    }
   ],
   "source": [
    "df = pd.read_csv(data_path)\n",
    "df.head(5)"
   ]
  },
  {
   "cell_type": "code",
   "execution_count": 7,
   "metadata": {},
   "outputs": [
    {
     "data": {
      "text/html": [
       "<div>\n",
       "<style scoped>\n",
       "    .dataframe tbody tr th:only-of-type {\n",
       "        vertical-align: middle;\n",
       "    }\n",
       "\n",
       "    .dataframe tbody tr th {\n",
       "        vertical-align: top;\n",
       "    }\n",
       "\n",
       "    .dataframe thead th {\n",
       "        text-align: right;\n",
       "    }\n",
       "</style>\n",
       "<table border=\"1\" class=\"dataframe\">\n",
       "  <thead>\n",
       "    <tr style=\"text-align: right;\">\n",
       "      <th></th>\n",
       "      <th>age</th>\n",
       "      <th>bmi</th>\n",
       "      <th>children</th>\n",
       "      <th>charges</th>\n",
       "    </tr>\n",
       "  </thead>\n",
       "  <tbody>\n",
       "    <tr>\n",
       "      <th>count</th>\n",
       "      <td>1338.000000</td>\n",
       "      <td>1338.000000</td>\n",
       "      <td>1338.000000</td>\n",
       "      <td>1338.000000</td>\n",
       "    </tr>\n",
       "    <tr>\n",
       "      <th>mean</th>\n",
       "      <td>39.207025</td>\n",
       "      <td>30.663397</td>\n",
       "      <td>1.094918</td>\n",
       "      <td>13270.422265</td>\n",
       "    </tr>\n",
       "    <tr>\n",
       "      <th>std</th>\n",
       "      <td>14.049960</td>\n",
       "      <td>6.098187</td>\n",
       "      <td>1.205493</td>\n",
       "      <td>12110.011237</td>\n",
       "    </tr>\n",
       "    <tr>\n",
       "      <th>min</th>\n",
       "      <td>18.000000</td>\n",
       "      <td>15.960000</td>\n",
       "      <td>0.000000</td>\n",
       "      <td>1121.873900</td>\n",
       "    </tr>\n",
       "    <tr>\n",
       "      <th>25%</th>\n",
       "      <td>27.000000</td>\n",
       "      <td>26.296250</td>\n",
       "      <td>0.000000</td>\n",
       "      <td>4740.287150</td>\n",
       "    </tr>\n",
       "    <tr>\n",
       "      <th>50%</th>\n",
       "      <td>39.000000</td>\n",
       "      <td>30.400000</td>\n",
       "      <td>1.000000</td>\n",
       "      <td>9382.033000</td>\n",
       "    </tr>\n",
       "    <tr>\n",
       "      <th>75%</th>\n",
       "      <td>51.000000</td>\n",
       "      <td>34.693750</td>\n",
       "      <td>2.000000</td>\n",
       "      <td>16639.912515</td>\n",
       "    </tr>\n",
       "    <tr>\n",
       "      <th>max</th>\n",
       "      <td>64.000000</td>\n",
       "      <td>53.130000</td>\n",
       "      <td>5.000000</td>\n",
       "      <td>63770.428010</td>\n",
       "    </tr>\n",
       "  </tbody>\n",
       "</table>\n",
       "</div>"
      ],
      "text/plain": [
       "               age          bmi     children       charges\n",
       "count  1338.000000  1338.000000  1338.000000   1338.000000\n",
       "mean     39.207025    30.663397     1.094918  13270.422265\n",
       "std      14.049960     6.098187     1.205493  12110.011237\n",
       "min      18.000000    15.960000     0.000000   1121.873900\n",
       "25%      27.000000    26.296250     0.000000   4740.287150\n",
       "50%      39.000000    30.400000     1.000000   9382.033000\n",
       "75%      51.000000    34.693750     2.000000  16639.912515\n",
       "max      64.000000    53.130000     5.000000  63770.428010"
      ]
     },
     "execution_count": 7,
     "metadata": {},
     "output_type": "execute_result"
    }
   ],
   "source": [
    "df.describe()"
   ]
  },
  {
   "cell_type": "code",
   "execution_count": 8,
   "metadata": {},
   "outputs": [
    {
     "data": {
      "text/plain": [
       "age         0\n",
       "sex         0\n",
       "bmi         0\n",
       "children    0\n",
       "smoker      0\n",
       "region      0\n",
       "charges     0\n",
       "dtype: int64"
      ]
     },
     "execution_count": 8,
     "metadata": {},
     "output_type": "execute_result"
    }
   ],
   "source": [
    "df.isna().sum()"
   ]
  },
  {
   "cell_type": "markdown",
   "metadata": {},
   "source": [
    "Plots"
   ]
  },
  {
   "cell_type": "markdown",
   "metadata": {},
   "source": [
    "Numeric"
   ]
  },
  {
   "cell_type": "code",
   "execution_count": 9,
   "metadata": {},
   "outputs": [
    {
     "data": {
      "text/plain": [
       "<seaborn.axisgrid.FacetGrid at 0x1077d2850>"
      ]
     },
     "execution_count": 9,
     "metadata": {},
     "output_type": "execute_result"
    },
    {
     "data": {
      "image/png": "[encoded data removed]",
      "text/plain": [
       "<Figure size 600.875x500 with 1 Axes>"
      ]
     },
     "metadata": {},
     "output_type": "display_data"
    }
   ],
   "source": [
    "sns.lmplot(df, x=\"age\", y=\"charges\", hue=\"sex\")"
   ]
  },
  {
   "cell_type": "code",
   "execution_count": 10,
   "metadata": {},
   "outputs": [
    {
     "data": {
      "text/plain": [
       "<seaborn.axisgrid.FacetGrid at 0x159247ed0>"
      ]
     },
     "execution_count": 10,
     "metadata": {},
     "output_type": "execute_result"
    },
    {
     "data": {
      "image/png": "[encoded data removed]",
      "text/plain": [
       "<Figure size 600.875x500 with 1 Axes>"
      ]
     },
     "metadata": {},
     "output_type": "display_data"
    }
   ],
   "source": [
    "sns.lmplot(df, x=\"bmi\", y=\"charges\", hue=\"sex\", order=2)"
   ]
  },
  {
   "cell_type": "code",
   "execution_count": 11,
   "metadata": {},
   "outputs": [
    {
     "data": {
      "text/html": [
       "<div>\n",
       "<style scoped>\n",
       "    .dataframe tbody tr th:only-of-type {\n",
       "        vertical-align: middle;\n",
       "    }\n",
       "\n",
       "    .dataframe tbody tr th {\n",
       "        vertical-align: top;\n",
       "    }\n",
       "\n",
       "    .dataframe thead th {\n",
       "        text-align: right;\n",
       "    }\n",
       "</style>\n",
       "<table border=\"1\" class=\"dataframe\">\n",
       "  <thead>\n",
       "    <tr style=\"text-align: right;\">\n",
       "      <th></th>\n",
       "      <th>age</th>\n",
       "      <th>bmi</th>\n",
       "      <th>children</th>\n",
       "    </tr>\n",
       "  </thead>\n",
       "  <tbody>\n",
       "    <tr>\n",
       "      <th>0</th>\n",
       "      <td>19</td>\n",
       "      <td>27.900</td>\n",
       "      <td>0</td>\n",
       "    </tr>\n",
       "    <tr>\n",
       "      <th>1</th>\n",
       "      <td>18</td>\n",
       "      <td>33.770</td>\n",
       "      <td>1</td>\n",
       "    </tr>\n",
       "    <tr>\n",
       "      <th>2</th>\n",
       "      <td>28</td>\n",
       "      <td>33.000</td>\n",
       "      <td>3</td>\n",
       "    </tr>\n",
       "    <tr>\n",
       "      <th>3</th>\n",
       "      <td>33</td>\n",
       "      <td>22.705</td>\n",
       "      <td>0</td>\n",
       "    </tr>\n",
       "    <tr>\n",
       "      <th>4</th>\n",
       "      <td>32</td>\n",
       "      <td>28.880</td>\n",
       "      <td>0</td>\n",
       "    </tr>\n",
       "    <tr>\n",
       "      <th>...</th>\n",
       "      <td>...</td>\n",
       "      <td>...</td>\n",
       "      <td>...</td>\n",
       "    </tr>\n",
       "    <tr>\n",
       "      <th>1333</th>\n",
       "      <td>50</td>\n",
       "      <td>30.970</td>\n",
       "      <td>3</td>\n",
       "    </tr>\n",
       "    <tr>\n",
       "      <th>1334</th>\n",
       "      <td>18</td>\n",
       "      <td>31.920</td>\n",
       "      <td>0</td>\n",
       "    </tr>\n",
       "    <tr>\n",
       "      <th>1335</th>\n",
       "      <td>18</td>\n",
       "      <td>36.850</td>\n",
       "      <td>0</td>\n",
       "    </tr>\n",
       "    <tr>\n",
       "      <th>1336</th>\n",
       "      <td>21</td>\n",
       "      <td>25.800</td>\n",
       "      <td>0</td>\n",
       "    </tr>\n",
       "    <tr>\n",
       "      <th>1337</th>\n",
       "      <td>61</td>\n",
       "      <td>29.070</td>\n",
       "      <td>0</td>\n",
       "    </tr>\n",
       "  </tbody>\n",
       "</table>\n",
       "<p>1338 rows × 3 columns</p>\n",
       "</div>"
      ],
      "text/plain": [
       "      age     bmi  children\n",
       "0      19  27.900         0\n",
       "1      18  33.770         1\n",
       "2      28  33.000         3\n",
       "3      33  22.705         0\n",
       "4      32  28.880         0\n",
       "...   ...     ...       ...\n",
       "1333   50  30.970         3\n",
       "1334   18  31.920         0\n",
       "1335   18  36.850         0\n",
       "1336   21  25.800         0\n",
       "1337   61  29.070         0\n",
       "\n",
       "[1338 rows x 3 columns]"
      ]
     },
     "execution_count": 11,
     "metadata": {},
     "output_type": "execute_result"
    }
   ],
   "source": [
    "numeric_df = df[[\"age\", \"bmi\", \"children\"]]\n",
    "numeric_df"
   ]
  },
  {
   "cell_type": "code",
   "execution_count": 12,
   "metadata": {},
   "outputs": [
    {
     "data": {
      "text/plain": [
       "<Axes: >"
      ]
     },
     "execution_count": 12,
     "metadata": {},
     "output_type": "execute_result"
    },
    {
     "data": {
      "image/png": "[encoded data removed]",
      "text/plain": [
       "<Figure size 640x480 with 2 Axes>"
      ]
     },
     "metadata": {},
     "output_type": "display_data"
    }
   ],
   "source": [
    "corr = numeric_df.corr()\n",
    "sns.heatmap(\n",
    "    corr,\n",
    "    mask=np.triu(np.ones_like(corr, dtype=bool)),\n",
    "    vmax=1,\n",
    "    linewidths=0.5,\n",
    "    cbar_kws={\"shrink\": 0.8},\n",
    ")"
   ]
  },
  {
   "cell_type": "code",
   "execution_count": 13,
   "metadata": {},
   "outputs": [
    {
     "data": {
      "text/plain": [
       "<seaborn.axisgrid.FacetGrid at 0x159619350>"
      ]
     },
     "execution_count": 13,
     "metadata": {},
     "output_type": "execute_result"
    },
    {
     "data": {
      "image/png": "[encoded data removed]",
      "text/plain": [
       "<Figure size 500x500 with 1 Axes>"
      ]
     },
     "metadata": {},
     "output_type": "display_data"
    }
   ],
   "source": [
    "sns.displot(df, x=\"charges\")"
   ]
  },
  {
   "cell_type": "markdown",
   "metadata": {},
   "source": [
    "Charges normalization"
   ]
  },
  {
   "cell_type": "code",
   "execution_count": 14,
   "metadata": {},
   "outputs": [
    {
     "data": {
      "text/html": [
       "<div>\n",
       "<style scoped>\n",
       "    .dataframe tbody tr th:only-of-type {\n",
       "        vertical-align: middle;\n",
       "    }\n",
       "\n",
       "    .dataframe tbody tr th {\n",
       "        vertical-align: top;\n",
       "    }\n",
       "\n",
       "    .dataframe thead th {\n",
       "        text-align: right;\n",
       "    }\n",
       "</style>\n",
       "<table border=\"1\" class=\"dataframe\">\n",
       "  <thead>\n",
       "    <tr style=\"text-align: right;\">\n",
       "      <th></th>\n",
       "      <th>charges</th>\n",
       "    </tr>\n",
       "  </thead>\n",
       "  <tbody>\n",
       "    <tr>\n",
       "      <th>0</th>\n",
       "      <td>0.251611</td>\n",
       "    </tr>\n",
       "    <tr>\n",
       "      <th>1</th>\n",
       "      <td>0.009636</td>\n",
       "    </tr>\n",
       "    <tr>\n",
       "      <th>2</th>\n",
       "      <td>0.053115</td>\n",
       "    </tr>\n",
       "    <tr>\n",
       "      <th>3</th>\n",
       "      <td>0.333010</td>\n",
       "    </tr>\n",
       "    <tr>\n",
       "      <th>4</th>\n",
       "      <td>0.043816</td>\n",
       "    </tr>\n",
       "    <tr>\n",
       "      <th>...</th>\n",
       "      <td>...</td>\n",
       "    </tr>\n",
       "    <tr>\n",
       "      <th>1333</th>\n",
       "      <td>0.151299</td>\n",
       "    </tr>\n",
       "    <tr>\n",
       "      <th>1334</th>\n",
       "      <td>0.017305</td>\n",
       "    </tr>\n",
       "    <tr>\n",
       "      <th>1335</th>\n",
       "      <td>0.008108</td>\n",
       "    </tr>\n",
       "    <tr>\n",
       "      <th>1336</th>\n",
       "      <td>0.014144</td>\n",
       "    </tr>\n",
       "    <tr>\n",
       "      <th>1337</th>\n",
       "      <td>0.447249</td>\n",
       "    </tr>\n",
       "  </tbody>\n",
       "</table>\n",
       "<p>1338 rows × 1 columns</p>\n",
       "</div>"
      ],
      "text/plain": [
       "       charges\n",
       "0     0.251611\n",
       "1     0.009636\n",
       "2     0.053115\n",
       "3     0.333010\n",
       "4     0.043816\n",
       "...        ...\n",
       "1333  0.151299\n",
       "1334  0.017305\n",
       "1335  0.008108\n",
       "1336  0.014144\n",
       "1337  0.447249\n",
       "\n",
       "[1338 rows x 1 columns]"
      ]
     },
     "execution_count": 14,
     "metadata": {},
     "output_type": "execute_result"
    }
   ],
   "source": [
    "norm_charges = df[[\"charges\"]].apply(\n",
    "    lambda x: ((x - df[\"charges\"].min()) / (df[\"charges\"].max() - df[\"charges\"].min()))\n",
    ")\n",
    "norm_charges"
   ]
  },
  {
   "cell_type": "code",
   "execution_count": 15,
   "metadata": {},
   "outputs": [
    {
     "data": {
      "text/plain": [
       "<seaborn.axisgrid.FacetGrid at 0x15969dcd0>"
      ]
     },
     "execution_count": 15,
     "metadata": {},
     "output_type": "execute_result"
    },
    {
     "data": {
      "image/png": "[encoded data removed]",
      "text/plain": [
       "<Figure size 500x500 with 1 Axes>"
      ]
     },
     "metadata": {},
     "output_type": "display_data"
    }
   ],
   "source": [
    "sns.displot(\n",
    "    norm_charges,\n",
    "    x=\"charges\",\n",
    ")"
   ]
  },
  {
   "cell_type": "markdown",
   "metadata": {},
   "source": [
    "Charges standardization"
   ]
  },
  {
   "cell_type": "code",
   "execution_count": 16,
   "metadata": {},
   "outputs": [
    {
     "data": {
      "text/html": [
       "<div>\n",
       "<style scoped>\n",
       "    .dataframe tbody tr th:only-of-type {\n",
       "        vertical-align: middle;\n",
       "    }\n",
       "\n",
       "    .dataframe tbody tr th {\n",
       "        vertical-align: top;\n",
       "    }\n",
       "\n",
       "    .dataframe thead th {\n",
       "        text-align: right;\n",
       "    }\n",
       "</style>\n",
       "<table border=\"1\" class=\"dataframe\">\n",
       "  <thead>\n",
       "    <tr style=\"text-align: right;\">\n",
       "      <th></th>\n",
       "      <th>charges</th>\n",
       "    </tr>\n",
       "  </thead>\n",
       "  <tbody>\n",
       "    <tr>\n",
       "      <th>0</th>\n",
       "      <td>0.298472</td>\n",
       "    </tr>\n",
       "    <tr>\n",
       "      <th>1</th>\n",
       "      <td>-0.953333</td>\n",
       "    </tr>\n",
       "    <tr>\n",
       "      <th>2</th>\n",
       "      <td>-0.728402</td>\n",
       "    </tr>\n",
       "    <tr>\n",
       "      <th>3</th>\n",
       "      <td>0.719574</td>\n",
       "    </tr>\n",
       "    <tr>\n",
       "      <th>4</th>\n",
       "      <td>-0.776512</td>\n",
       "    </tr>\n",
       "    <tr>\n",
       "      <th>...</th>\n",
       "      <td>...</td>\n",
       "    </tr>\n",
       "    <tr>\n",
       "      <th>1333</th>\n",
       "      <td>-0.220468</td>\n",
       "    </tr>\n",
       "    <tr>\n",
       "      <th>1334</th>\n",
       "      <td>-0.913661</td>\n",
       "    </tr>\n",
       "    <tr>\n",
       "      <th>1335</th>\n",
       "      <td>-0.961237</td>\n",
       "    </tr>\n",
       "    <tr>\n",
       "      <th>1336</th>\n",
       "      <td>-0.930014</td>\n",
       "    </tr>\n",
       "    <tr>\n",
       "      <th>1337</th>\n",
       "      <td>1.310563</td>\n",
       "    </tr>\n",
       "  </tbody>\n",
       "</table>\n",
       "<p>1338 rows × 1 columns</p>\n",
       "</div>"
      ],
      "text/plain": [
       "       charges\n",
       "0     0.298472\n",
       "1    -0.953333\n",
       "2    -0.728402\n",
       "3     0.719574\n",
       "4    -0.776512\n",
       "...        ...\n",
       "1333 -0.220468\n",
       "1334 -0.913661\n",
       "1335 -0.961237\n",
       "1336 -0.930014\n",
       "1337  1.310563\n",
       "\n",
       "[1338 rows x 1 columns]"
      ]
     },
     "execution_count": 16,
     "metadata": {},
     "output_type": "execute_result"
    }
   ],
   "source": [
    "std_charges = df[[\"charges\"]].apply(\n",
    "    lambda x: ((x - df[\"charges\"].mean()) / df[\"charges\"].std())\n",
    ")\n",
    "std_charges"
   ]
  },
  {
   "cell_type": "code",
   "execution_count": 17,
   "metadata": {},
   "outputs": [
    {
     "data": {
      "text/plain": [
       "<seaborn.axisgrid.FacetGrid at 0x1597be0d0>"
      ]
     },
     "execution_count": 17,
     "metadata": {},
     "output_type": "execute_result"
    },
    {
     "data": {
      "image/png": "[encoded data removed]",
      "text/plain": [
       "<Figure size 500x500 with 1 Axes>"
      ]
     },
     "metadata": {},
     "output_type": "display_data"
    }
   ],
   "source": [
    "sns.displot(\n",
    "    std_charges,\n",
    "    x=\"charges\",\n",
    ")"
   ]
  },
  {
   "cell_type": "markdown",
   "metadata": {},
   "source": [
    "Charges log transform"
   ]
  },
  {
   "cell_type": "code",
   "execution_count": 18,
   "metadata": {},
   "outputs": [
    {
     "data": {
      "text/html": [
       "<div>\n",
       "<style scoped>\n",
       "    .dataframe tbody tr th:only-of-type {\n",
       "        vertical-align: middle;\n",
       "    }\n",
       "\n",
       "    .dataframe tbody tr th {\n",
       "        vertical-align: top;\n",
       "    }\n",
       "\n",
       "    .dataframe thead th {\n",
       "        text-align: right;\n",
       "    }\n",
       "</style>\n",
       "<table border=\"1\" class=\"dataframe\">\n",
       "  <thead>\n",
       "    <tr style=\"text-align: right;\">\n",
       "      <th></th>\n",
       "      <th>charges</th>\n",
       "    </tr>\n",
       "  </thead>\n",
       "  <tbody>\n",
       "    <tr>\n",
       "      <th>0</th>\n",
       "      <td>4.227499</td>\n",
       "    </tr>\n",
       "    <tr>\n",
       "      <th>1</th>\n",
       "      <td>3.236928</td>\n",
       "    </tr>\n",
       "    <tr>\n",
       "      <th>2</th>\n",
       "      <td>3.648308</td>\n",
       "    </tr>\n",
       "    <tr>\n",
       "      <th>3</th>\n",
       "      <td>4.342116</td>\n",
       "    </tr>\n",
       "    <tr>\n",
       "      <th>4</th>\n",
       "      <td>3.587358</td>\n",
       "    </tr>\n",
       "    <tr>\n",
       "      <th>...</th>\n",
       "      <td>...</td>\n",
       "    </tr>\n",
       "    <tr>\n",
       "      <th>1333</th>\n",
       "      <td>4.025328</td>\n",
       "    </tr>\n",
       "    <tr>\n",
       "      <th>1334</th>\n",
       "      <td>3.343602</td>\n",
       "    </tr>\n",
       "    <tr>\n",
       "      <th>1335</th>\n",
       "      <td>3.212143</td>\n",
       "    </tr>\n",
       "    <tr>\n",
       "      <th>1336</th>\n",
       "      <td>3.302752</td>\n",
       "    </tr>\n",
       "    <tr>\n",
       "      <th>1337</th>\n",
       "      <td>4.464510</td>\n",
       "    </tr>\n",
       "  </tbody>\n",
       "</table>\n",
       "<p>1338 rows × 1 columns</p>\n",
       "</div>"
      ],
      "text/plain": [
       "       charges\n",
       "0     4.227499\n",
       "1     3.236928\n",
       "2     3.648308\n",
       "3     4.342116\n",
       "4     3.587358\n",
       "...        ...\n",
       "1333  4.025328\n",
       "1334  3.343602\n",
       "1335  3.212143\n",
       "1336  3.302752\n",
       "1337  4.464510\n",
       "\n",
       "[1338 rows x 1 columns]"
      ]
     },
     "execution_count": 18,
     "metadata": {},
     "output_type": "execute_result"
    }
   ],
   "source": [
    "log10_charges = df[[\"charges\"]].apply(lambda x: np.log10(x))\n",
    "log10_charges"
   ]
  },
  {
   "cell_type": "code",
   "execution_count": 19,
   "metadata": {},
   "outputs": [
    {
     "data": {
      "text/plain": [
       "<seaborn.axisgrid.FacetGrid at 0x1596fe8d0>"
      ]
     },
     "execution_count": 19,
     "metadata": {},
     "output_type": "execute_result"
    },
    {
     "data": {
      "image/png": "[encoded data removed]",
      "text/plain": [
       "<Figure size 500x500 with 1 Axes>"
      ]
     },
     "metadata": {},
     "output_type": "display_data"
    }
   ],
   "source": [
    "sns.displot(\n",
    "    log10_charges,\n",
    "    x=\"charges\",\n",
    ")"
   ]
  },
  {
   "cell_type": "code",
   "execution_count": 20,
   "metadata": {},
   "outputs": [
    {
     "data": {
      "text/html": [
       "<div>\n",
       "<style scoped>\n",
       "    .dataframe tbody tr th:only-of-type {\n",
       "        vertical-align: middle;\n",
       "    }\n",
       "\n",
       "    .dataframe tbody tr th {\n",
       "        vertical-align: top;\n",
       "    }\n",
       "\n",
       "    .dataframe thead th {\n",
       "        text-align: right;\n",
       "    }\n",
       "</style>\n",
       "<table border=\"1\" class=\"dataframe\">\n",
       "  <thead>\n",
       "    <tr style=\"text-align: right;\">\n",
       "      <th></th>\n",
       "      <th>charges</th>\n",
       "    </tr>\n",
       "  </thead>\n",
       "  <tbody>\n",
       "    <tr>\n",
       "      <th>0</th>\n",
       "      <td>9.734176</td>\n",
       "    </tr>\n",
       "    <tr>\n",
       "      <th>1</th>\n",
       "      <td>7.453302</td>\n",
       "    </tr>\n",
       "    <tr>\n",
       "      <th>2</th>\n",
       "      <td>8.400538</td>\n",
       "    </tr>\n",
       "    <tr>\n",
       "      <th>3</th>\n",
       "      <td>9.998092</td>\n",
       "    </tr>\n",
       "    <tr>\n",
       "      <th>4</th>\n",
       "      <td>8.260197</td>\n",
       "    </tr>\n",
       "    <tr>\n",
       "      <th>...</th>\n",
       "      <td>...</td>\n",
       "    </tr>\n",
       "    <tr>\n",
       "      <th>1333</th>\n",
       "      <td>9.268661</td>\n",
       "    </tr>\n",
       "    <tr>\n",
       "      <th>1334</th>\n",
       "      <td>7.698927</td>\n",
       "    </tr>\n",
       "    <tr>\n",
       "      <th>1335</th>\n",
       "      <td>7.396233</td>\n",
       "    </tr>\n",
       "    <tr>\n",
       "      <th>1336</th>\n",
       "      <td>7.604867</td>\n",
       "    </tr>\n",
       "    <tr>\n",
       "      <th>1337</th>\n",
       "      <td>10.279914</td>\n",
       "    </tr>\n",
       "  </tbody>\n",
       "</table>\n",
       "<p>1338 rows × 1 columns</p>\n",
       "</div>"
      ],
      "text/plain": [
       "        charges\n",
       "0      9.734176\n",
       "1      7.453302\n",
       "2      8.400538\n",
       "3      9.998092\n",
       "4      8.260197\n",
       "...         ...\n",
       "1333   9.268661\n",
       "1334   7.698927\n",
       "1335   7.396233\n",
       "1336   7.604867\n",
       "1337  10.279914\n",
       "\n",
       "[1338 rows x 1 columns]"
      ]
     },
     "execution_count": 20,
     "metadata": {},
     "output_type": "execute_result"
    }
   ],
   "source": [
    "logn_charges = df[[\"charges\"]].apply(lambda x: np.log(x))\n",
    "logn_charges"
   ]
  },
  {
   "cell_type": "code",
   "execution_count": 21,
   "metadata": {},
   "outputs": [
    {
     "data": {
      "text/plain": [
       "<seaborn.axisgrid.FacetGrid at 0x159976590>"
      ]
     },
     "execution_count": 21,
     "metadata": {},
     "output_type": "execute_result"
    },
    {
     "data": {
      "image/png": "[encoded data removed]",
      "text/plain": [
       "<Figure size 500x500 with 1 Axes>"
      ]
     },
     "metadata": {},
     "output_type": "display_data"
    }
   ],
   "source": [
    "sns.displot(\n",
    "    logn_charges,\n",
    "    x=\"charges\",\n",
    ")"
   ]
  },
  {
   "cell_type": "markdown",
   "metadata": {},
   "source": [
    "BMI Distribution"
   ]
  },
  {
   "cell_type": "code",
   "execution_count": 22,
   "metadata": {},
   "outputs": [
    {
     "data": {
      "text/plain": [
       "<seaborn.axisgrid.FacetGrid at 0x159991890>"
      ]
     },
     "execution_count": 22,
     "metadata": {},
     "output_type": "execute_result"
    },
    {
     "data": {
      "image/png": "[encoded data removed]",
      "text/plain": [
       "<Figure size 500x500 with 1 Axes>"
      ]
     },
     "metadata": {},
     "output_type": "display_data"
    }
   ],
   "source": [
    "sns.displot(df, x=\"bmi\")"
   ]
  },
  {
   "cell_type": "markdown",
   "metadata": {},
   "source": [
    "Age distribution"
   ]
  },
  {
   "cell_type": "code",
   "execution_count": 23,
   "metadata": {},
   "outputs": [
    {
     "data": {
      "text/plain": [
       "<seaborn.axisgrid.FacetGrid at 0x159926a10>"
      ]
     },
     "execution_count": 23,
     "metadata": {},
     "output_type": "execute_result"
    },
    {
     "data": {
      "image/png": "[encoded data removed]",
      "text/plain": [
       "<Figure size 500x500 with 1 Axes>"
      ]
     },
     "metadata": {},
     "output_type": "display_data"
    }
   ],
   "source": [
    "sns.displot(df, x=\"age\")"
   ]
  },
  {
   "cell_type": "markdown",
   "metadata": {},
   "source": [
    "Preprocess dataframe"
   ]
  },
  {
   "cell_type": "code",
   "execution_count": 24,
   "metadata": {},
   "outputs": [],
   "source": [
    "df[\"charges_log10\"] = log10_charges\n",
    "df[\"charges_logn\"] = logn_charges"
   ]
  },
  {
   "cell_type": "code",
   "execution_count": 25,
   "metadata": {},
   "outputs": [
    {
     "data": {
      "text/html": [
       "<div>\n",
       "<style scoped>\n",
       "    .dataframe tbody tr th:only-of-type {\n",
       "        vertical-align: middle;\n",
       "    }\n",
       "\n",
       "    .dataframe tbody tr th {\n",
       "        vertical-align: top;\n",
       "    }\n",
       "\n",
       "    .dataframe thead th {\n",
       "        text-align: right;\n",
       "    }\n",
       "</style>\n",
       "<table border=\"1\" class=\"dataframe\">\n",
       "  <thead>\n",
       "    <tr style=\"text-align: right;\">\n",
       "      <th></th>\n",
       "      <th>age</th>\n",
       "      <th>bmi</th>\n",
       "      <th>children</th>\n",
       "      <th>charges</th>\n",
       "      <th>charges_log10</th>\n",
       "      <th>charges_logn</th>\n",
       "      <th>sex_male</th>\n",
       "      <th>smoker_yes</th>\n",
       "      <th>region_northwest</th>\n",
       "      <th>region_southeast</th>\n",
       "      <th>region_southwest</th>\n",
       "    </tr>\n",
       "  </thead>\n",
       "  <tbody>\n",
       "    <tr>\n",
       "      <th>0</th>\n",
       "      <td>19</td>\n",
       "      <td>27.900</td>\n",
       "      <td>0</td>\n",
       "      <td>16884.92400</td>\n",
       "      <td>4.227499</td>\n",
       "      <td>9.734176</td>\n",
       "      <td>0.0</td>\n",
       "      <td>1.0</td>\n",
       "      <td>0.0</td>\n",
       "      <td>0.0</td>\n",
       "      <td>1.0</td>\n",
       "    </tr>\n",
       "    <tr>\n",
       "      <th>1</th>\n",
       "      <td>18</td>\n",
       "      <td>33.770</td>\n",
       "      <td>1</td>\n",
       "      <td>1725.55230</td>\n",
       "      <td>3.236928</td>\n",
       "      <td>7.453302</td>\n",
       "      <td>1.0</td>\n",
       "      <td>0.0</td>\n",
       "      <td>0.0</td>\n",
       "      <td>1.0</td>\n",
       "      <td>0.0</td>\n",
       "    </tr>\n",
       "    <tr>\n",
       "      <th>2</th>\n",
       "      <td>28</td>\n",
       "      <td>33.000</td>\n",
       "      <td>3</td>\n",
       "      <td>4449.46200</td>\n",
       "      <td>3.648308</td>\n",
       "      <td>8.400538</td>\n",
       "      <td>1.0</td>\n",
       "      <td>0.0</td>\n",
       "      <td>0.0</td>\n",
       "      <td>1.0</td>\n",
       "      <td>0.0</td>\n",
       "    </tr>\n",
       "    <tr>\n",
       "      <th>3</th>\n",
       "      <td>33</td>\n",
       "      <td>22.705</td>\n",
       "      <td>0</td>\n",
       "      <td>21984.47061</td>\n",
       "      <td>4.342116</td>\n",
       "      <td>9.998092</td>\n",
       "      <td>1.0</td>\n",
       "      <td>0.0</td>\n",
       "      <td>1.0</td>\n",
       "      <td>0.0</td>\n",
       "      <td>0.0</td>\n",
       "    </tr>\n",
       "    <tr>\n",
       "      <th>4</th>\n",
       "      <td>32</td>\n",
       "      <td>28.880</td>\n",
       "      <td>0</td>\n",
       "      <td>3866.85520</td>\n",
       "      <td>3.587358</td>\n",
       "      <td>8.260197</td>\n",
       "      <td>1.0</td>\n",
       "      <td>0.0</td>\n",
       "      <td>1.0</td>\n",
       "      <td>0.0</td>\n",
       "      <td>0.0</td>\n",
       "    </tr>\n",
       "    <tr>\n",
       "      <th>...</th>\n",
       "      <td>...</td>\n",
       "      <td>...</td>\n",
       "      <td>...</td>\n",
       "      <td>...</td>\n",
       "      <td>...</td>\n",
       "      <td>...</td>\n",
       "      <td>...</td>\n",
       "      <td>...</td>\n",
       "      <td>...</td>\n",
       "      <td>...</td>\n",
       "      <td>...</td>\n",
       "    </tr>\n",
       "    <tr>\n",
       "      <th>1333</th>\n",
       "      <td>50</td>\n",
       "      <td>30.970</td>\n",
       "      <td>3</td>\n",
       "      <td>10600.54830</td>\n",
       "      <td>4.025328</td>\n",
       "      <td>9.268661</td>\n",
       "      <td>1.0</td>\n",
       "      <td>0.0</td>\n",
       "      <td>1.0</td>\n",
       "      <td>0.0</td>\n",
       "      <td>0.0</td>\n",
       "    </tr>\n",
       "    <tr>\n",
       "      <th>1334</th>\n",
       "      <td>18</td>\n",
       "      <td>31.920</td>\n",
       "      <td>0</td>\n",
       "      <td>2205.98080</td>\n",
       "      <td>3.343602</td>\n",
       "      <td>7.698927</td>\n",
       "      <td>0.0</td>\n",
       "      <td>0.0</td>\n",
       "      <td>0.0</td>\n",
       "      <td>0.0</td>\n",
       "      <td>0.0</td>\n",
       "    </tr>\n",
       "    <tr>\n",
       "      <th>1335</th>\n",
       "      <td>18</td>\n",
       "      <td>36.850</td>\n",
       "      <td>0</td>\n",
       "      <td>1629.83350</td>\n",
       "      <td>3.212143</td>\n",
       "      <td>7.396233</td>\n",
       "      <td>0.0</td>\n",
       "      <td>0.0</td>\n",
       "      <td>0.0</td>\n",
       "      <td>1.0</td>\n",
       "      <td>0.0</td>\n",
       "    </tr>\n",
       "    <tr>\n",
       "      <th>1336</th>\n",
       "      <td>21</td>\n",
       "      <td>25.800</td>\n",
       "      <td>0</td>\n",
       "      <td>2007.94500</td>\n",
       "      <td>3.302752</td>\n",
       "      <td>7.604867</td>\n",
       "      <td>0.0</td>\n",
       "      <td>0.0</td>\n",
       "      <td>0.0</td>\n",
       "      <td>0.0</td>\n",
       "      <td>1.0</td>\n",
       "    </tr>\n",
       "    <tr>\n",
       "      <th>1337</th>\n",
       "      <td>61</td>\n",
       "      <td>29.070</td>\n",
       "      <td>0</td>\n",
       "      <td>29141.36030</td>\n",
       "      <td>4.464510</td>\n",
       "      <td>10.279914</td>\n",
       "      <td>0.0</td>\n",
       "      <td>1.0</td>\n",
       "      <td>1.0</td>\n",
       "      <td>0.0</td>\n",
       "      <td>0.0</td>\n",
       "    </tr>\n",
       "  </tbody>\n",
       "</table>\n",
       "<p>1338 rows × 11 columns</p>\n",
       "</div>"
      ],
      "text/plain": [
       "      age     bmi  children      charges  charges_log10  charges_logn  \\\n",
       "0      19  27.900         0  16884.92400       4.227499      9.734176   \n",
       "1      18  33.770         1   1725.55230       3.236928      7.453302   \n",
       "2      28  33.000         3   4449.46200       3.648308      8.400538   \n",
       "3      33  22.705         0  21984.47061       4.342116      9.998092   \n",
       "4      32  28.880         0   3866.85520       3.587358      8.260197   \n",
       "...   ...     ...       ...          ...            ...           ...   \n",
       "1333   50  30.970         3  10600.54830       4.025328      9.268661   \n",
       "1334   18  31.920         0   2205.98080       3.343602      7.698927   \n",
       "1335   18  36.850         0   1629.83350       3.212143      7.396233   \n",
       "1336   21  25.800         0   2007.94500       3.302752      7.604867   \n",
       "1337   61  29.070         0  29141.36030       4.464510     10.279914   \n",
       "\n",
       "      sex_male  smoker_yes  region_northwest  region_southeast  \\\n",
       "0          0.0         1.0               0.0               0.0   \n",
       "1          1.0         0.0               0.0               1.0   \n",
       "2          1.0         0.0               0.0               1.0   \n",
       "3          1.0         0.0               1.0               0.0   \n",
       "4          1.0         0.0               1.0               0.0   \n",
       "...        ...         ...               ...               ...   \n",
       "1333       1.0         0.0               1.0               0.0   \n",
       "1334       0.0         0.0               0.0               0.0   \n",
       "1335       0.0         0.0               0.0               1.0   \n",
       "1336       0.0         0.0               0.0               0.0   \n",
       "1337       0.0         1.0               1.0               0.0   \n",
       "\n",
       "      region_southwest  \n",
       "0                  1.0  \n",
       "1                  0.0  \n",
       "2                  0.0  \n",
       "3                  0.0  \n",
       "4                  0.0  \n",
       "...                ...  \n",
       "1333               0.0  \n",
       "1334               0.0  \n",
       "1335               0.0  \n",
       "1336               1.0  \n",
       "1337               0.0  \n",
       "\n",
       "[1338 rows x 11 columns]"
      ]
     },
     "execution_count": 25,
     "metadata": {},
     "output_type": "execute_result"
    }
   ],
   "source": [
    "df_clean = pd.get_dummies(df, sparse=False, drop_first=True, dtype=float)\n",
    "\n",
    "df_clean"
   ]
  },
  {
   "cell_type": "code",
   "execution_count": 26,
   "metadata": {},
   "outputs": [
    {
     "name": "stdout",
     "output_type": "stream",
     "text": [
      "<class 'pandas.core.frame.DataFrame'>\n",
      "RangeIndex: 1338 entries, 0 to 1337\n",
      "Data columns (total 11 columns):\n",
      " #   Column            Non-Null Count  Dtype  \n",
      "---  ------            --------------  -----  \n",
      " 0   age               1338 non-null   int64  \n",
      " 1   bmi               1338 non-null   float64\n",
      " 2   children          1338 non-null   int64  \n",
      " 3   charges           1338 non-null   float64\n",
      " 4   charges_log10     1338 non-null   float64\n",
      " 5   charges_logn      1338 non-null   float64\n",
      " 6   sex_male          1338 non-null   float64\n",
      " 7   smoker_yes        1338 non-null   float64\n",
      " 8   region_northwest  1338 non-null   float64\n",
      " 9   region_southeast  1338 non-null   float64\n",
      " 10  region_southwest  1338 non-null   float64\n",
      "dtypes: float64(9), int64(2)\n",
      "memory usage: 115.1 KB\n"
     ]
    }
   ],
   "source": [
    "df_clean.info()"
   ]
  },
  {
   "cell_type": "markdown",
   "metadata": {},
   "source": [
    "# Machine Learning"
   ]
  },
  {
   "cell_type": "markdown",
   "metadata": {},
   "source": [
    "## Split dataset"
   ]
  },
  {
   "cell_type": "code",
   "execution_count": 27,
   "metadata": {},
   "outputs": [
    {
     "name": "stdout",
     "output_type": "stream",
     "text": [
      "(1338, 8) (1338, 1) (1338, 1)\n"
     ]
    }
   ],
   "source": [
    "X = df_clean.drop(columns=[\"charges\", \"charges_log10\", \"charges_logn\"])\n",
    "y_charges = df_clean[[\"charges\"]]\n",
    "y_chargeslog10 = df_clean[[\"charges_log10\"]]\n",
    "\n",
    "print(X.shape, y_charges.shape, y_chargeslog10.shape)"
   ]
  },
  {
   "cell_type": "code",
   "execution_count": 28,
   "metadata": {},
   "outputs": [
    {
     "name": "stdout",
     "output_type": "stream",
     "text": [
      "(1070, 8) (268, 8) (1070, 1) (268, 1)\n"
     ]
    }
   ],
   "source": [
    "X_train, X_test, y_train, y_test = train_test_split(\n",
    "    X, y_charges, test_size=0.2, random_state=seed, shuffle=True\n",
    ")\n",
    "\n",
    "print(X_train.shape, X_test.shape, y_train.shape, y_test.shape)"
   ]
  },
  {
   "cell_type": "code",
   "execution_count": 29,
   "metadata": {},
   "outputs": [
    {
     "name": "stdout",
     "output_type": "stream",
     "text": [
      "(1070, 8) (268, 8) (1070, 1) (268, 1)\n"
     ]
    }
   ],
   "source": [
    "X_train_log, X_test_log, y_trainlog, y_test_log = train_test_split(\n",
    "    X, y_chargeslog10, test_size=0.2, random_state=seed, shuffle=True\n",
    ")\n",
    "\n",
    "print(X_train_log.shape, X_test_log.shape, y_trainlog.shape, y_test_log.shape)"
   ]
  },
  {
   "cell_type": "markdown",
   "metadata": {},
   "source": [
    "## MLflow"
   ]
  },
  {
   "cell_type": "code",
   "execution_count": 30,
   "metadata": {},
   "outputs": [],
   "source": [
    "import mlflow\n",
    "import mlflow.sklearn\n",
    "\n",
    "mlflow.set_tracking_uri(\"http://127.0.0.1:5000\")"
   ]
  },
  {
   "cell_type": "code",
   "execution_count": 31,
   "metadata": {},
   "outputs": [
    {
     "name": "stderr",
     "output_type": "stream",
     "text": [
      "2025/09/20 12:53:08 INFO mlflow.tracking.fluent: Experiment with name 'medical-insurance-regression' does not exist. Creating a new experiment.\n"
     ]
    },
    {
     "data": {
      "text/plain": [
       "<Experiment: artifact_location='/Users/omar/Desktop/Professional/Work/insurance/mlruns/221207765889808369', creation_time=1758361988416, experiment_id='221207765889808369', last_update_time=1758361988416, lifecycle_stage='active', name='medical-insurance-regression', tags={}>"
      ]
     },
     "execution_count": 31,
     "metadata": {},
     "output_type": "execute_result"
    }
   ],
   "source": [
    "mlflow.set_experiment(\"medical-insurance-regression\")"
   ]
  },
  {
   "cell_type": "code",
   "execution_count": 32,
   "metadata": {},
   "outputs": [],
   "source": [
    "mlflow.sklearn.autolog(log_models=True)"
   ]
  },
  {
   "cell_type": "markdown",
   "metadata": {},
   "source": [
    "## Linear Regression"
   ]
  },
  {
   "cell_type": "code",
   "execution_count": 33,
   "metadata": {},
   "outputs": [
    {
     "name": "stderr",
     "output_type": "stream",
     "text": [
      "2025/09/20 12:53:14 INFO mlflow.utils.autologging_utils: Created MLflow autologging run with ID '1d93f2128787408ca0cbdb566632352b', which will track hyperparameters, performance metrics, model artifacts, and lineage information for the current sklearn workflow\n",
      "2025/09/20 12:53:14 WARNING mlflow.utils.autologging_utils: MLflow autologging encountered a warning: \"/Users/omar/.pyenv/versions/insurance/lib/python3.11/site-packages/mlflow/types/utils.py:452: UserWarning: Hint: Inferred schema contains integer column(s). Integer columns in Python cannot represent missing values. If your input data contains missing values at inference time, it will be encoded as floats and will cause a schema enforcement error. The best way to avoid this problem is to infer the model schema based on a realistic data sample (training dataset) that includes missing values. Alternatively, you can declare integer columns as doubles (float64) whenever these columns may have missing values. See `Handling Integers With Missing Values <https://www.mlflow.org/docs/latest/models.html#handling-integers-with-missing-values>`_ for more details.\"\n",
      "2025/09/20 12:53:14 WARNING mlflow.utils.autologging_utils: MLflow autologging encountered a warning: \"/Users/omar/.pyenv/versions/insurance/lib/python3.11/site-packages/mlflow/types/utils.py:452: UserWarning: Hint: Inferred schema contains integer column(s). Integer columns in Python cannot represent missing values. If your input data contains missing values at inference time, it will be encoded as floats and will cause a schema enforcement error. The best way to avoid this problem is to infer the model schema based on a realistic data sample (training dataset) that includes missing values. Alternatively, you can declare integer columns as doubles (float64) whenever these columns may have missing values. See `Handling Integers With Missing Values <https://www.mlflow.org/docs/latest/models.html#handling-integers-with-missing-values>`_ for more details.\"\n"
     ]
    },
    {
     "name": "stdout",
     "output_type": "stream",
     "text": [
      "🏃 View run tasteful-wren-198 at: http://127.0.0.1:5000/#/experiments/221207765889808369/runs/1d93f2128787408ca0cbdb566632352b\n",
      "🧪 View experiment at: http://127.0.0.1:5000/#/experiments/221207765889808369\n"
     ]
    },
    {
     "data": {
      "text/plain": [
       "0.7536440382001555"
      ]
     },
     "execution_count": 33,
     "metadata": {},
     "output_type": "execute_result"
    }
   ],
   "source": [
    "lr_model = LinearRegression()\n",
    "\n",
    "lr_hist = lr_model.fit(X_train, y_train)\n",
    "lr_hist.score(X_test, y_test)  # R2"
   ]
  },
  {
   "cell_type": "code",
   "execution_count": 34,
   "metadata": {},
   "outputs": [
    {
     "name": "stderr",
     "output_type": "stream",
     "text": [
      "2025/09/20 12:53:23 INFO mlflow.utils.autologging_utils: Created MLflow autologging run with ID '5ec69261e98b4566ba2981c6faa474fd', which will track hyperparameters, performance metrics, model artifacts, and lineage information for the current sklearn workflow\n",
      "2025/09/20 12:53:23 WARNING mlflow.utils.autologging_utils: MLflow autologging encountered a warning: \"/Users/omar/.pyenv/versions/insurance/lib/python3.11/site-packages/mlflow/types/utils.py:452: UserWarning: Hint: Inferred schema contains integer column(s). Integer columns in Python cannot represent missing values. If your input data contains missing values at inference time, it will be encoded as floats and will cause a schema enforcement error. The best way to avoid this problem is to infer the model schema based on a realistic data sample (training dataset) that includes missing values. Alternatively, you can declare integer columns as doubles (float64) whenever these columns may have missing values. See `Handling Integers With Missing Values <https://www.mlflow.org/docs/latest/models.html#handling-integers-with-missing-values>`_ for more details.\"\n"
     ]
    },
    {
     "name": "stderr",
     "output_type": "stream",
     "text": [
      "2025/09/20 12:53:23 WARNING mlflow.utils.autologging_utils: MLflow autologging encountered a warning: \"/Users/omar/.pyenv/versions/insurance/lib/python3.11/site-packages/mlflow/types/utils.py:452: UserWarning: Hint: Inferred schema contains integer column(s). Integer columns in Python cannot represent missing values. If your input data contains missing values at inference time, it will be encoded as floats and will cause a schema enforcement error. The best way to avoid this problem is to infer the model schema based on a realistic data sample (training dataset) that includes missing values. Alternatively, you can declare integer columns as doubles (float64) whenever these columns may have missing values. See `Handling Integers With Missing Values <https://www.mlflow.org/docs/latest/models.html#handling-integers-with-missing-values>`_ for more details.\"\n"
     ]
    },
    {
     "name": "stdout",
     "output_type": "stream",
     "text": [
      "🏃 View run adorable-slug-874 at: http://127.0.0.1:5000/#/experiments/221207765889808369/runs/5ec69261e98b4566ba2981c6faa474fd\n",
      "🧪 View experiment at: http://127.0.0.1:5000/#/experiments/221207765889808369\n"
     ]
    },
    {
     "data": {
      "text/plain": [
       "0.7996323002117186"
      ]
     },
     "execution_count": 34,
     "metadata": {},
     "output_type": "execute_result"
    }
   ],
   "source": [
    "lr_model = LinearRegression()\n",
    "\n",
    "lr_hist = lr_model.fit(X_train_log, y_trainlog)\n",
    "lr_hist.score(X_test_log, y_test_log)  # R2"
   ]
  },
  {
   "cell_type": "code",
   "execution_count": 35,
   "metadata": {},
   "outputs": [
    {
     "name": "stderr",
     "output_type": "stream",
     "text": [
      "2025/09/20 12:53:34 INFO mlflow.utils.autologging_utils: Created MLflow autologging run with ID '6e7d0a5c523540908f2ddc9227626f7e', which will track hyperparameters, performance metrics, model artifacts, and lineage information for the current sklearn workflow\n",
      "2025/09/20 12:53:34 WARNING mlflow.utils.autologging_utils: MLflow autologging encountered a warning: \"/Users/omar/.pyenv/versions/insurance/lib/python3.11/site-packages/mlflow/types/utils.py:452: UserWarning: Hint: Inferred schema contains integer column(s). Integer columns in Python cannot represent missing values. If your input data contains missing values at inference time, it will be encoded as floats and will cause a schema enforcement error. The best way to avoid this problem is to infer the model schema based on a realistic data sample (training dataset) that includes missing values. Alternatively, you can declare integer columns as doubles (float64) whenever these columns may have missing values. See `Handling Integers With Missing Values <https://www.mlflow.org/docs/latest/models.html#handling-integers-with-missing-values>`_ for more details.\"\n",
      "2025/09/20 12:53:34 WARNING mlflow.utils.autologging_utils: MLflow autologging encountered a warning: \"/Users/omar/.pyenv/versions/insurance/lib/python3.11/site-packages/mlflow/types/utils.py:452: UserWarning: Hint: Inferred schema contains integer column(s). Integer columns in Python cannot represent missing values. If your input data contains missing values at inference time, it will be encoded as floats and will cause a schema enforcement error. The best way to avoid this problem is to infer the model schema based on a realistic data sample (training dataset) that includes missing values. Alternatively, you can declare integer columns as doubles (float64) whenever these columns may have missing values. See `Handling Integers With Missing Values <https://www.mlflow.org/docs/latest/models.html#handling-integers-with-missing-values>`_ for more details.\"\n"
     ]
    },
    {
     "name": "stderr",
     "output_type": "stream",
     "text": [
      "2025/09/20 12:53:35 INFO mlflow.utils.autologging_utils: Created MLflow autologging run with ID 'd27ace243b724edd8082c06547907496', which will track hyperparameters, performance metrics, model artifacts, and lineage information for the current sklearn workflow\n",
      "2025/09/20 12:53:35 WARNING mlflow.utils.autologging_utils: MLflow autologging encountered a warning: \"/Users/omar/.pyenv/versions/insurance/lib/python3.11/site-packages/mlflow/types/utils.py:452: UserWarning: Hint: Inferred schema contains integer column(s). Integer columns in Python cannot represent missing values. If your input data contains missing values at inference time, it will be encoded as floats and will cause a schema enforcement error. The best way to avoid this problem is to infer the model schema based on a realistic data sample (training dataset) that includes missing values. Alternatively, you can declare integer columns as doubles (float64) whenever these columns may have missing values. See `Handling Integers With Missing Values <https://www.mlflow.org/docs/latest/models.html#handling-integers-with-missing-values>`_ for more details.\"\n",
      "2025/09/20 12:53:35 WARNING mlflow.utils.autologging_utils: MLflow autologging encountered a warning: \"/Users/omar/.pyenv/versions/insurance/lib/python3.11/site-packages/mlflow/types/utils.py:452: UserWarning: Hint: Inferred schema contains integer column(s). Integer columns in Python cannot represent missing values. If your input data contains missing values at inference time, it will be encoded as floats and will cause a schema enforcement error. The best way to avoid this problem is to infer the model schema based on a realistic data sample (training dataset) that includes missing values. Alternatively, you can declare integer columns as doubles (float64) whenever these columns may have missing values. See `Handling Integers With Missing Values <https://www.mlflow.org/docs/latest/models.html#handling-integers-with-missing-values>`_ for more details.\"\n"
     ]
    },
    {
     "name": "stdout",
     "output_type": "stream",
     "text": [
      "🏃 View run gifted-elk-942 at: http://127.0.0.1:5000/#/experiments/221207765889808369/runs/6e7d0a5c523540908f2ddc9227626f7e\n",
      "🧪 View experiment at: http://127.0.0.1:5000/#/experiments/221207765889808369\n"
     ]
    },
    {
     "name": "stderr",
     "output_type": "stream",
     "text": [
      "2025/09/20 12:53:37 INFO mlflow.utils.autologging_utils: Created MLflow autologging run with ID '91690a883dde405d923ac160d34ade50', which will track hyperparameters, performance metrics, model artifacts, and lineage information for the current sklearn workflow\n",
      "2025/09/20 12:53:37 WARNING mlflow.utils.autologging_utils: MLflow autologging encountered a warning: \"/Users/omar/.pyenv/versions/insurance/lib/python3.11/site-packages/mlflow/types/utils.py:452: UserWarning: Hint: Inferred schema contains integer column(s). Integer columns in Python cannot represent missing values. If your input data contains missing values at inference time, it will be encoded as floats and will cause a schema enforcement error. The best way to avoid this problem is to infer the model schema based on a realistic data sample (training dataset) that includes missing values. Alternatively, you can declare integer columns as doubles (float64) whenever these columns may have missing values. See `Handling Integers With Missing Values <https://www.mlflow.org/docs/latest/models.html#handling-integers-with-missing-values>`_ for more details.\"\n",
      "2025/09/20 12:53:37 WARNING mlflow.utils.autologging_utils: MLflow autologging encountered a warning: \"/Users/omar/.pyenv/versions/insurance/lib/python3.11/site-packages/mlflow/types/utils.py:452: UserWarning: Hint: Inferred schema contains integer column(s). Integer columns in Python cannot represent missing values. If your input data contains missing values at inference time, it will be encoded as floats and will cause a schema enforcement error. The best way to avoid this problem is to infer the model schema based on a realistic data sample (training dataset) that includes missing values. Alternatively, you can declare integer columns as doubles (float64) whenever these columns may have missing values. See `Handling Integers With Missing Values <https://www.mlflow.org/docs/latest/models.html#handling-integers-with-missing-values>`_ for more details.\"\n"
     ]
    },
    {
     "name": "stdout",
     "output_type": "stream",
     "text": [
      "🏃 View run abrasive-dolphin-908 at: http://127.0.0.1:5000/#/experiments/221207765889808369/runs/d27ace243b724edd8082c06547907496\n",
      "🧪 View experiment at: http://127.0.0.1:5000/#/experiments/221207765889808369\n"
     ]
    },
    {
     "name": "stderr",
     "output_type": "stream",
     "text": [
      "2025/09/20 12:53:38 INFO mlflow.utils.autologging_utils: Created MLflow autologging run with ID 'df4a666a06b54450b9d84343fd465bf1', which will track hyperparameters, performance metrics, model artifacts, and lineage information for the current sklearn workflow\n",
      "2025/09/20 12:53:38 WARNING mlflow.utils.autologging_utils: MLflow autologging encountered a warning: \"/Users/omar/.pyenv/versions/insurance/lib/python3.11/site-packages/mlflow/types/utils.py:452: UserWarning: Hint: Inferred schema contains integer column(s). Integer columns in Python cannot represent missing values. If your input data contains missing values at inference time, it will be encoded as floats and will cause a schema enforcement error. The best way to avoid this problem is to infer the model schema based on a realistic data sample (training dataset) that includes missing values. Alternatively, you can declare integer columns as doubles (float64) whenever these columns may have missing values. See `Handling Integers With Missing Values <https://www.mlflow.org/docs/latest/models.html#handling-integers-with-missing-values>`_ for more details.\"\n",
      "2025/09/20 12:53:38 WARNING mlflow.utils.autologging_utils: MLflow autologging encountered a warning: \"/Users/omar/.pyenv/versions/insurance/lib/python3.11/site-packages/mlflow/types/utils.py:452: UserWarning: Hint: Inferred schema contains integer column(s). Integer columns in Python cannot represent missing values. If your input data contains missing values at inference time, it will be encoded as floats and will cause a schema enforcement error. The best way to avoid this problem is to infer the model schema based on a realistic data sample (training dataset) that includes missing values. Alternatively, you can declare integer columns as doubles (float64) whenever these columns may have missing values. See `Handling Integers With Missing Values <https://www.mlflow.org/docs/latest/models.html#handling-integers-with-missing-values>`_ for more details.\"\n"
     ]
    },
    {
     "name": "stdout",
     "output_type": "stream",
     "text": [
      "🏃 View run puzzled-sponge-564 at: http://127.0.0.1:5000/#/experiments/221207765889808369/runs/91690a883dde405d923ac160d34ade50\n",
      "🧪 View experiment at: http://127.0.0.1:5000/#/experiments/221207765889808369\n"
     ]
    },
    {
     "name": "stderr",
     "output_type": "stream",
     "text": [
      "2025/09/20 12:53:39 INFO mlflow.utils.autologging_utils: Created MLflow autologging run with ID 'e638535515e5447395766326dfa09c1d', which will track hyperparameters, performance metrics, model artifacts, and lineage information for the current sklearn workflow\n",
      "2025/09/20 12:53:39 WARNING mlflow.utils.autologging_utils: MLflow autologging encountered a warning: \"/Users/omar/.pyenv/versions/insurance/lib/python3.11/site-packages/mlflow/types/utils.py:452: UserWarning: Hint: Inferred schema contains integer column(s). Integer columns in Python cannot represent missing values. If your input data contains missing values at inference time, it will be encoded as floats and will cause a schema enforcement error. The best way to avoid this problem is to infer the model schema based on a realistic data sample (training dataset) that includes missing values. Alternatively, you can declare integer columns as doubles (float64) whenever these columns may have missing values. See `Handling Integers With Missing Values <https://www.mlflow.org/docs/latest/models.html#handling-integers-with-missing-values>`_ for more details.\"\n",
      "2025/09/20 12:53:39 WARNING mlflow.utils.autologging_utils: MLflow autologging encountered a warning: \"/Users/omar/.pyenv/versions/insurance/lib/python3.11/site-packages/mlflow/types/utils.py:452: UserWarning: Hint: Inferred schema contains integer column(s). Integer columns in Python cannot represent missing values. If your input data contains missing values at inference time, it will be encoded as floats and will cause a schema enforcement error. The best way to avoid this problem is to infer the model schema based on a realistic data sample (training dataset) that includes missing values. Alternatively, you can declare integer columns as doubles (float64) whenever these columns may have missing values. See `Handling Integers With Missing Values <https://www.mlflow.org/docs/latest/models.html#handling-integers-with-missing-values>`_ for more details.\"\n"
     ]
    },
    {
     "name": "stdout",
     "output_type": "stream",
     "text": [
      "🏃 View run peaceful-foal-534 at: http://127.0.0.1:5000/#/experiments/221207765889808369/runs/df4a666a06b54450b9d84343fd465bf1\n",
      "🧪 View experiment at: http://127.0.0.1:5000/#/experiments/221207765889808369\n"
     ]
    },
    {
     "name": "stderr",
     "output_type": "stream",
     "text": [
      "2025/09/20 12:53:41 INFO mlflow.utils.autologging_utils: Created MLflow autologging run with ID '4116633115f94b23b3f9ce5c8ad3c2a2', which will track hyperparameters, performance metrics, model artifacts, and lineage information for the current sklearn workflow\n",
      "2025/09/20 12:53:41 WARNING mlflow.utils.autologging_utils: MLflow autologging encountered a warning: \"/Users/omar/.pyenv/versions/insurance/lib/python3.11/site-packages/mlflow/types/utils.py:452: UserWarning: Hint: Inferred schema contains integer column(s). Integer columns in Python cannot represent missing values. If your input data contains missing values at inference time, it will be encoded as floats and will cause a schema enforcement error. The best way to avoid this problem is to infer the model schema based on a realistic data sample (training dataset) that includes missing values. Alternatively, you can declare integer columns as doubles (float64) whenever these columns may have missing values. See `Handling Integers With Missing Values <https://www.mlflow.org/docs/latest/models.html#handling-integers-with-missing-values>`_ for more details.\"\n",
      "2025/09/20 12:53:41 WARNING mlflow.utils.autologging_utils: MLflow autologging encountered a warning: \"/Users/omar/.pyenv/versions/insurance/lib/python3.11/site-packages/mlflow/types/utils.py:452: UserWarning: Hint: Inferred schema contains integer column(s). Integer columns in Python cannot represent missing values. If your input data contains missing values at inference time, it will be encoded as floats and will cause a schema enforcement error. The best way to avoid this problem is to infer the model schema based on a realistic data sample (training dataset) that includes missing values. Alternatively, you can declare integer columns as doubles (float64) whenever these columns may have missing values. See `Handling Integers With Missing Values <https://www.mlflow.org/docs/latest/models.html#handling-integers-with-missing-values>`_ for more details.\"\n"
     ]
    },
    {
     "name": "stdout",
     "output_type": "stream",
     "text": [
      "🏃 View run gregarious-mole-935 at: http://127.0.0.1:5000/#/experiments/221207765889808369/runs/e638535515e5447395766326dfa09c1d\n",
      "🧪 View experiment at: http://127.0.0.1:5000/#/experiments/221207765889808369\n"
     ]
    },
    {
     "name": "stderr",
     "output_type": "stream",
     "text": [
      "2025/09/20 12:53:42 INFO mlflow.utils.autologging_utils: Created MLflow autologging run with ID '16536a0abd1647428888e2ebd3eef70c', which will track hyperparameters, performance metrics, model artifacts, and lineage information for the current sklearn workflow\n",
      "2025/09/20 12:53:42 WARNING mlflow.utils.autologging_utils: MLflow autologging encountered a warning: \"/Users/omar/.pyenv/versions/insurance/lib/python3.11/site-packages/mlflow/types/utils.py:452: UserWarning: Hint: Inferred schema contains integer column(s). Integer columns in Python cannot represent missing values. If your input data contains missing values at inference time, it will be encoded as floats and will cause a schema enforcement error. The best way to avoid this problem is to infer the model schema based on a realistic data sample (training dataset) that includes missing values. Alternatively, you can declare integer columns as doubles (float64) whenever these columns may have missing values. See `Handling Integers With Missing Values <https://www.mlflow.org/docs/latest/models.html#handling-integers-with-missing-values>`_ for more details.\"\n",
      "2025/09/20 12:53:42 WARNING mlflow.utils.autologging_utils: MLflow autologging encountered a warning: \"/Users/omar/.pyenv/versions/insurance/lib/python3.11/site-packages/mlflow/types/utils.py:452: UserWarning: Hint: Inferred schema contains integer column(s). Integer columns in Python cannot represent missing values. If your input data contains missing values at inference time, it will be encoded as floats and will cause a schema enforcement error. The best way to avoid this problem is to infer the model schema based on a realistic data sample (training dataset) that includes missing values. Alternatively, you can declare integer columns as doubles (float64) whenever these columns may have missing values. See `Handling Integers With Missing Values <https://www.mlflow.org/docs/latest/models.html#handling-integers-with-missing-values>`_ for more details.\"\n"
     ]
    },
    {
     "name": "stdout",
     "output_type": "stream",
     "text": [
      "🏃 View run luxuriant-quail-691 at: http://127.0.0.1:5000/#/experiments/221207765889808369/runs/4116633115f94b23b3f9ce5c8ad3c2a2\n",
      "🧪 View experiment at: http://127.0.0.1:5000/#/experiments/221207765889808369\n"
     ]
    },
    {
     "name": "stderr",
     "output_type": "stream",
     "text": [
      "2025/09/20 12:53:44 INFO mlflow.utils.autologging_utils: Created MLflow autologging run with ID '3245ecbd6b0a4789935f77cc346b8a14', which will track hyperparameters, performance metrics, model artifacts, and lineage information for the current sklearn workflow\n",
      "2025/09/20 12:53:44 WARNING mlflow.utils.autologging_utils: MLflow autologging encountered a warning: \"/Users/omar/.pyenv/versions/insurance/lib/python3.11/site-packages/mlflow/types/utils.py:452: UserWarning: Hint: Inferred schema contains integer column(s). Integer columns in Python cannot represent missing values. If your input data contains missing values at inference time, it will be encoded as floats and will cause a schema enforcement error. The best way to avoid this problem is to infer the model schema based on a realistic data sample (training dataset) that includes missing values. Alternatively, you can declare integer columns as doubles (float64) whenever these columns may have missing values. See `Handling Integers With Missing Values <https://www.mlflow.org/docs/latest/models.html#handling-integers-with-missing-values>`_ for more details.\"\n",
      "2025/09/20 12:53:44 WARNING mlflow.utils.autologging_utils: MLflow autologging encountered a warning: \"/Users/omar/.pyenv/versions/insurance/lib/python3.11/site-packages/mlflow/types/utils.py:452: UserWarning: Hint: Inferred schema contains integer column(s). Integer columns in Python cannot represent missing values. If your input data contains missing values at inference time, it will be encoded as floats and will cause a schema enforcement error. The best way to avoid this problem is to infer the model schema based on a realistic data sample (training dataset) that includes missing values. Alternatively, you can declare integer columns as doubles (float64) whenever these columns may have missing values. See `Handling Integers With Missing Values <https://www.mlflow.org/docs/latest/models.html#handling-integers-with-missing-values>`_ for more details.\"\n"
     ]
    },
    {
     "name": "stdout",
     "output_type": "stream",
     "text": [
      "🏃 View run whimsical-dove-590 at: http://127.0.0.1:5000/#/experiments/221207765889808369/runs/16536a0abd1647428888e2ebd3eef70c\n",
      "🧪 View experiment at: http://127.0.0.1:5000/#/experiments/221207765889808369\n"
     ]
    },
    {
     "name": "stderr",
     "output_type": "stream",
     "text": [
      "2025/09/20 12:53:45 INFO mlflow.utils.autologging_utils: Created MLflow autologging run with ID 'c4cce425f30142f7913921fe128d5791', which will track hyperparameters, performance metrics, model artifacts, and lineage information for the current sklearn workflow\n",
      "2025/09/20 12:53:45 WARNING mlflow.utils.autologging_utils: MLflow autologging encountered a warning: \"/Users/omar/.pyenv/versions/insurance/lib/python3.11/site-packages/mlflow/types/utils.py:452: UserWarning: Hint: Inferred schema contains integer column(s). Integer columns in Python cannot represent missing values. If your input data contains missing values at inference time, it will be encoded as floats and will cause a schema enforcement error. The best way to avoid this problem is to infer the model schema based on a realistic data sample (training dataset) that includes missing values. Alternatively, you can declare integer columns as doubles (float64) whenever these columns may have missing values. See `Handling Integers With Missing Values <https://www.mlflow.org/docs/latest/models.html#handling-integers-with-missing-values>`_ for more details.\"\n",
      "2025/09/20 12:53:45 WARNING mlflow.utils.autologging_utils: MLflow autologging encountered a warning: \"/Users/omar/.pyenv/versions/insurance/lib/python3.11/site-packages/mlflow/types/utils.py:452: UserWarning: Hint: Inferred schema contains integer column(s). Integer columns in Python cannot represent missing values. If your input data contains missing values at inference time, it will be encoded as floats and will cause a schema enforcement error. The best way to avoid this problem is to infer the model schema based on a realistic data sample (training dataset) that includes missing values. Alternatively, you can declare integer columns as doubles (float64) whenever these columns may have missing values. See `Handling Integers With Missing Values <https://www.mlflow.org/docs/latest/models.html#handling-integers-with-missing-values>`_ for more details.\"\n"
     ]
    },
    {
     "name": "stdout",
     "output_type": "stream",
     "text": [
      "🏃 View run spiffy-stoat-407 at: http://127.0.0.1:5000/#/experiments/221207765889808369/runs/3245ecbd6b0a4789935f77cc346b8a14\n",
      "🧪 View experiment at: http://127.0.0.1:5000/#/experiments/221207765889808369\n"
     ]
    },
    {
     "name": "stderr",
     "output_type": "stream",
     "text": [
      "2025/09/20 12:53:46 INFO mlflow.utils.autologging_utils: Created MLflow autologging run with ID '4a7b99c67a36416d97eb62287086f087', which will track hyperparameters, performance metrics, model artifacts, and lineage information for the current sklearn workflow\n",
      "2025/09/20 12:53:46 WARNING mlflow.utils.autologging_utils: MLflow autologging encountered a warning: \"/Users/omar/.pyenv/versions/insurance/lib/python3.11/site-packages/mlflow/types/utils.py:452: UserWarning: Hint: Inferred schema contains integer column(s). Integer columns in Python cannot represent missing values. If your input data contains missing values at inference time, it will be encoded as floats and will cause a schema enforcement error. The best way to avoid this problem is to infer the model schema based on a realistic data sample (training dataset) that includes missing values. Alternatively, you can declare integer columns as doubles (float64) whenever these columns may have missing values. See `Handling Integers With Missing Values <https://www.mlflow.org/docs/latest/models.html#handling-integers-with-missing-values>`_ for more details.\"\n",
      "2025/09/20 12:53:46 WARNING mlflow.utils.autologging_utils: MLflow autologging encountered a warning: \"/Users/omar/.pyenv/versions/insurance/lib/python3.11/site-packages/mlflow/types/utils.py:452: UserWarning: Hint: Inferred schema contains integer column(s). Integer columns in Python cannot represent missing values. If your input data contains missing values at inference time, it will be encoded as floats and will cause a schema enforcement error. The best way to avoid this problem is to infer the model schema based on a realistic data sample (training dataset) that includes missing values. Alternatively, you can declare integer columns as doubles (float64) whenever these columns may have missing values. See `Handling Integers With Missing Values <https://www.mlflow.org/docs/latest/models.html#handling-integers-with-missing-values>`_ for more details.\"\n"
     ]
    },
    {
     "name": "stdout",
     "output_type": "stream",
     "text": [
      "🏃 View run exultant-shark-846 at: http://127.0.0.1:5000/#/experiments/221207765889808369/runs/c4cce425f30142f7913921fe128d5791\n",
      "🧪 View experiment at: http://127.0.0.1:5000/#/experiments/221207765889808369\n"
     ]
    },
    {
     "name": "stderr",
     "output_type": "stream",
     "text": [
      "2025/09/20 12:53:48 INFO mlflow.utils.autologging_utils: Created MLflow autologging run with ID '7f424d645033489b9f74b3fb62bbd08d', which will track hyperparameters, performance metrics, model artifacts, and lineage information for the current sklearn workflow\n",
      "2025/09/20 12:53:48 WARNING mlflow.utils.autologging_utils: MLflow autologging encountered a warning: \"/Users/omar/.pyenv/versions/insurance/lib/python3.11/site-packages/mlflow/types/utils.py:452: UserWarning: Hint: Inferred schema contains integer column(s). Integer columns in Python cannot represent missing values. If your input data contains missing values at inference time, it will be encoded as floats and will cause a schema enforcement error. The best way to avoid this problem is to infer the model schema based on a realistic data sample (training dataset) that includes missing values. Alternatively, you can declare integer columns as doubles (float64) whenever these columns may have missing values. See `Handling Integers With Missing Values <https://www.mlflow.org/docs/latest/models.html#handling-integers-with-missing-values>`_ for more details.\"\n",
      "2025/09/20 12:53:48 WARNING mlflow.utils.autologging_utils: MLflow autologging encountered a warning: \"/Users/omar/.pyenv/versions/insurance/lib/python3.11/site-packages/mlflow/types/utils.py:452: UserWarning: Hint: Inferred schema contains integer column(s). Integer columns in Python cannot represent missing values. If your input data contains missing values at inference time, it will be encoded as floats and will cause a schema enforcement error. The best way to avoid this problem is to infer the model schema based on a realistic data sample (training dataset) that includes missing values. Alternatively, you can declare integer columns as doubles (float64) whenever these columns may have missing values. See `Handling Integers With Missing Values <https://www.mlflow.org/docs/latest/models.html#handling-integers-with-missing-values>`_ for more details.\"\n"
     ]
    },
    {
     "name": "stdout",
     "output_type": "stream",
     "text": [
      "🏃 View run abrasive-moose-807 at: http://127.0.0.1:5000/#/experiments/221207765889808369/runs/4a7b99c67a36416d97eb62287086f087\n",
      "🧪 View experiment at: http://127.0.0.1:5000/#/experiments/221207765889808369\n"
     ]
    },
    {
     "name": "stderr",
     "output_type": "stream",
     "text": [
      "2025/09/20 12:53:49 INFO mlflow.utils.autologging_utils: Created MLflow autologging run with ID 'a2c00a0592fa4298b310a57ca6f5515f', which will track hyperparameters, performance metrics, model artifacts, and lineage information for the current sklearn workflow\n",
      "2025/09/20 12:53:49 WARNING mlflow.utils.autologging_utils: MLflow autologging encountered a warning: \"/Users/omar/.pyenv/versions/insurance/lib/python3.11/site-packages/mlflow/types/utils.py:452: UserWarning: Hint: Inferred schema contains integer column(s). Integer columns in Python cannot represent missing values. If your input data contains missing values at inference time, it will be encoded as floats and will cause a schema enforcement error. The best way to avoid this problem is to infer the model schema based on a realistic data sample (training dataset) that includes missing values. Alternatively, you can declare integer columns as doubles (float64) whenever these columns may have missing values. See `Handling Integers With Missing Values <https://www.mlflow.org/docs/latest/models.html#handling-integers-with-missing-values>`_ for more details.\"\n",
      "2025/09/20 12:53:49 WARNING mlflow.utils.autologging_utils: MLflow autologging encountered a warning: \"/Users/omar/.pyenv/versions/insurance/lib/python3.11/site-packages/mlflow/types/utils.py:452: UserWarning: Hint: Inferred schema contains integer column(s). Integer columns in Python cannot represent missing values. If your input data contains missing values at inference time, it will be encoded as floats and will cause a schema enforcement error. The best way to avoid this problem is to infer the model schema based on a realistic data sample (training dataset) that includes missing values. Alternatively, you can declare integer columns as doubles (float64) whenever these columns may have missing values. See `Handling Integers With Missing Values <https://www.mlflow.org/docs/latest/models.html#handling-integers-with-missing-values>`_ for more details.\"\n"
     ]
    },
    {
     "name": "stdout",
     "output_type": "stream",
     "text": [
      "🏃 View run gaudy-shoat-618 at: http://127.0.0.1:5000/#/experiments/221207765889808369/runs/7f424d645033489b9f74b3fb62bbd08d\n",
      "🧪 View experiment at: http://127.0.0.1:5000/#/experiments/221207765889808369\n"
     ]
    },
    {
     "name": "stderr",
     "output_type": "stream",
     "text": [
      "2025/09/20 12:53:51 INFO mlflow.utils.autologging_utils: Created MLflow autologging run with ID '41c5260981a54ae6951127d9b554c860', which will track hyperparameters, performance metrics, model artifacts, and lineage information for the current sklearn workflow\n",
      "2025/09/20 12:53:51 WARNING mlflow.utils.autologging_utils: MLflow autologging encountered a warning: \"/Users/omar/.pyenv/versions/insurance/lib/python3.11/site-packages/mlflow/types/utils.py:452: UserWarning: Hint: Inferred schema contains integer column(s). Integer columns in Python cannot represent missing values. If your input data contains missing values at inference time, it will be encoded as floats and will cause a schema enforcement error. The best way to avoid this problem is to infer the model schema based on a realistic data sample (training dataset) that includes missing values. Alternatively, you can declare integer columns as doubles (float64) whenever these columns may have missing values. See `Handling Integers With Missing Values <https://www.mlflow.org/docs/latest/models.html#handling-integers-with-missing-values>`_ for more details.\"\n",
      "2025/09/20 12:53:51 WARNING mlflow.utils.autologging_utils: MLflow autologging encountered a warning: \"/Users/omar/.pyenv/versions/insurance/lib/python3.11/site-packages/mlflow/types/utils.py:452: UserWarning: Hint: Inferred schema contains integer column(s). Integer columns in Python cannot represent missing values. If your input data contains missing values at inference time, it will be encoded as floats and will cause a schema enforcement error. The best way to avoid this problem is to infer the model schema based on a realistic data sample (training dataset) that includes missing values. Alternatively, you can declare integer columns as doubles (float64) whenever these columns may have missing values. See `Handling Integers With Missing Values <https://www.mlflow.org/docs/latest/models.html#handling-integers-with-missing-values>`_ for more details.\"\n"
     ]
    },
    {
     "name": "stdout",
     "output_type": "stream",
     "text": [
      "🏃 View run victorious-robin-882 at: http://127.0.0.1:5000/#/experiments/221207765889808369/runs/a2c00a0592fa4298b310a57ca6f5515f\n",
      "🧪 View experiment at: http://127.0.0.1:5000/#/experiments/221207765889808369\n"
     ]
    },
    {
     "name": "stderr",
     "output_type": "stream",
     "text": [
      "2025/09/20 12:53:52 INFO mlflow.utils.autologging_utils: Created MLflow autologging run with ID 'e867f372477d425381dd0afa124ec36b', which will track hyperparameters, performance metrics, model artifacts, and lineage information for the current sklearn workflow\n",
      "2025/09/20 12:53:52 WARNING mlflow.utils.autologging_utils: MLflow autologging encountered a warning: \"/Users/omar/.pyenv/versions/insurance/lib/python3.11/site-packages/mlflow/types/utils.py:452: UserWarning: Hint: Inferred schema contains integer column(s). Integer columns in Python cannot represent missing values. If your input data contains missing values at inference time, it will be encoded as floats and will cause a schema enforcement error. The best way to avoid this problem is to infer the model schema based on a realistic data sample (training dataset) that includes missing values. Alternatively, you can declare integer columns as doubles (float64) whenever these columns may have missing values. See `Handling Integers With Missing Values <https://www.mlflow.org/docs/latest/models.html#handling-integers-with-missing-values>`_ for more details.\"\n",
      "2025/09/20 12:53:52 WARNING mlflow.utils.autologging_utils: MLflow autologging encountered a warning: \"/Users/omar/.pyenv/versions/insurance/lib/python3.11/site-packages/mlflow/types/utils.py:452: UserWarning: Hint: Inferred schema contains integer column(s). Integer columns in Python cannot represent missing values. If your input data contains missing values at inference time, it will be encoded as floats and will cause a schema enforcement error. The best way to avoid this problem is to infer the model schema based on a realistic data sample (training dataset) that includes missing values. Alternatively, you can declare integer columns as doubles (float64) whenever these columns may have missing values. See `Handling Integers With Missing Values <https://www.mlflow.org/docs/latest/models.html#handling-integers-with-missing-values>`_ for more details.\"\n"
     ]
    },
    {
     "name": "stdout",
     "output_type": "stream",
     "text": [
      "🏃 View run wise-finch-222 at: http://127.0.0.1:5000/#/experiments/221207765889808369/runs/41c5260981a54ae6951127d9b554c860\n",
      "🧪 View experiment at: http://127.0.0.1:5000/#/experiments/221207765889808369\n"
     ]
    },
    {
     "name": "stderr",
     "output_type": "stream",
     "text": [
      "2025/09/20 12:53:53 INFO mlflow.utils.autologging_utils: Created MLflow autologging run with ID '68b7ac68cbf040769a3bfd10a649d15d', which will track hyperparameters, performance metrics, model artifacts, and lineage information for the current sklearn workflow\n",
      "2025/09/20 12:53:53 WARNING mlflow.utils.autologging_utils: MLflow autologging encountered a warning: \"/Users/omar/.pyenv/versions/insurance/lib/python3.11/site-packages/mlflow/types/utils.py:452: UserWarning: Hint: Inferred schema contains integer column(s). Integer columns in Python cannot represent missing values. If your input data contains missing values at inference time, it will be encoded as floats and will cause a schema enforcement error. The best way to avoid this problem is to infer the model schema based on a realistic data sample (training dataset) that includes missing values. Alternatively, you can declare integer columns as doubles (float64) whenever these columns may have missing values. See `Handling Integers With Missing Values <https://www.mlflow.org/docs/latest/models.html#handling-integers-with-missing-values>`_ for more details.\"\n",
      "2025/09/20 12:53:53 WARNING mlflow.utils.autologging_utils: MLflow autologging encountered a warning: \"/Users/omar/.pyenv/versions/insurance/lib/python3.11/site-packages/mlflow/types/utils.py:452: UserWarning: Hint: Inferred schema contains integer column(s). Integer columns in Python cannot represent missing values. If your input data contains missing values at inference time, it will be encoded as floats and will cause a schema enforcement error. The best way to avoid this problem is to infer the model schema based on a realistic data sample (training dataset) that includes missing values. Alternatively, you can declare integer columns as doubles (float64) whenever these columns may have missing values. See `Handling Integers With Missing Values <https://www.mlflow.org/docs/latest/models.html#handling-integers-with-missing-values>`_ for more details.\"\n"
     ]
    },
    {
     "name": "stdout",
     "output_type": "stream",
     "text": [
      "🏃 View run mercurial-swan-966 at: http://127.0.0.1:5000/#/experiments/221207765889808369/runs/e867f372477d425381dd0afa124ec36b\n",
      "🧪 View experiment at: http://127.0.0.1:5000/#/experiments/221207765889808369\n"
     ]
    },
    {
     "name": "stderr",
     "output_type": "stream",
     "text": [
      "2025/09/20 12:53:55 INFO mlflow.utils.autologging_utils: Created MLflow autologging run with ID '7ac64e0fcb2a4f79a6c23b28bd6c5fd6', which will track hyperparameters, performance metrics, model artifacts, and lineage information for the current sklearn workflow\n",
      "2025/09/20 12:53:55 WARNING mlflow.utils.autologging_utils: MLflow autologging encountered a warning: \"/Users/omar/.pyenv/versions/insurance/lib/python3.11/site-packages/mlflow/types/utils.py:452: UserWarning: Hint: Inferred schema contains integer column(s). Integer columns in Python cannot represent missing values. If your input data contains missing values at inference time, it will be encoded as floats and will cause a schema enforcement error. The best way to avoid this problem is to infer the model schema based on a realistic data sample (training dataset) that includes missing values. Alternatively, you can declare integer columns as doubles (float64) whenever these columns may have missing values. See `Handling Integers With Missing Values <https://www.mlflow.org/docs/latest/models.html#handling-integers-with-missing-values>`_ for more details.\"\n",
      "2025/09/20 12:53:55 WARNING mlflow.utils.autologging_utils: MLflow autologging encountered a warning: \"/Users/omar/.pyenv/versions/insurance/lib/python3.11/site-packages/mlflow/types/utils.py:452: UserWarning: Hint: Inferred schema contains integer column(s). Integer columns in Python cannot represent missing values. If your input data contains missing values at inference time, it will be encoded as floats and will cause a schema enforcement error. The best way to avoid this problem is to infer the model schema based on a realistic data sample (training dataset) that includes missing values. Alternatively, you can declare integer columns as doubles (float64) whenever these columns may have missing values. See `Handling Integers With Missing Values <https://www.mlflow.org/docs/latest/models.html#handling-integers-with-missing-values>`_ for more details.\"\n"
     ]
    },
    {
     "name": "stdout",
     "output_type": "stream",
     "text": [
      "🏃 View run orderly-shark-982 at: http://127.0.0.1:5000/#/experiments/221207765889808369/runs/68b7ac68cbf040769a3bfd10a649d15d\n",
      "🧪 View experiment at: http://127.0.0.1:5000/#/experiments/221207765889808369\n"
     ]
    },
    {
     "name": "stderr",
     "output_type": "stream",
     "text": [
      "2025/09/20 12:53:56 INFO mlflow.utils.autologging_utils: Created MLflow autologging run with ID '8c5357bef2ac4721ba2b1d53c69cc25d', which will track hyperparameters, performance metrics, model artifacts, and lineage information for the current sklearn workflow\n",
      "2025/09/20 12:53:56 WARNING mlflow.utils.autologging_utils: MLflow autologging encountered a warning: \"/Users/omar/.pyenv/versions/insurance/lib/python3.11/site-packages/mlflow/types/utils.py:452: UserWarning: Hint: Inferred schema contains integer column(s). Integer columns in Python cannot represent missing values. If your input data contains missing values at inference time, it will be encoded as floats and will cause a schema enforcement error. The best way to avoid this problem is to infer the model schema based on a realistic data sample (training dataset) that includes missing values. Alternatively, you can declare integer columns as doubles (float64) whenever these columns may have missing values. See `Handling Integers With Missing Values <https://www.mlflow.org/docs/latest/models.html#handling-integers-with-missing-values>`_ for more details.\"\n",
      "2025/09/20 12:53:56 WARNING mlflow.utils.autologging_utils: MLflow autologging encountered a warning: \"/Users/omar/.pyenv/versions/insurance/lib/python3.11/site-packages/mlflow/types/utils.py:452: UserWarning: Hint: Inferred schema contains integer column(s). Integer columns in Python cannot represent missing values. If your input data contains missing values at inference time, it will be encoded as floats and will cause a schema enforcement error. The best way to avoid this problem is to infer the model schema based on a realistic data sample (training dataset) that includes missing values. Alternatively, you can declare integer columns as doubles (float64) whenever these columns may have missing values. See `Handling Integers With Missing Values <https://www.mlflow.org/docs/latest/models.html#handling-integers-with-missing-values>`_ for more details.\"\n"
     ]
    },
    {
     "name": "stdout",
     "output_type": "stream",
     "text": [
      "🏃 View run rogue-owl-88 at: http://127.0.0.1:5000/#/experiments/221207765889808369/runs/7ac64e0fcb2a4f79a6c23b28bd6c5fd6\n",
      "🧪 View experiment at: http://127.0.0.1:5000/#/experiments/221207765889808369\n"
     ]
    },
    {
     "name": "stderr",
     "output_type": "stream",
     "text": [
      "2025/09/20 12:53:58 INFO mlflow.utils.autologging_utils: Created MLflow autologging run with ID '7bbd46d71002437c8861e4d10899a4b9', which will track hyperparameters, performance metrics, model artifacts, and lineage information for the current sklearn workflow\n",
      "2025/09/20 12:53:58 WARNING mlflow.utils.autologging_utils: MLflow autologging encountered a warning: \"/Users/omar/.pyenv/versions/insurance/lib/python3.11/site-packages/mlflow/types/utils.py:452: UserWarning: Hint: Inferred schema contains integer column(s). Integer columns in Python cannot represent missing values. If your input data contains missing values at inference time, it will be encoded as floats and will cause a schema enforcement error. The best way to avoid this problem is to infer the model schema based on a realistic data sample (training dataset) that includes missing values. Alternatively, you can declare integer columns as doubles (float64) whenever these columns may have missing values. See `Handling Integers With Missing Values <https://www.mlflow.org/docs/latest/models.html#handling-integers-with-missing-values>`_ for more details.\"\n",
      "2025/09/20 12:53:58 WARNING mlflow.utils.autologging_utils: MLflow autologging encountered a warning: \"/Users/omar/.pyenv/versions/insurance/lib/python3.11/site-packages/mlflow/types/utils.py:452: UserWarning: Hint: Inferred schema contains integer column(s). Integer columns in Python cannot represent missing values. If your input data contains missing values at inference time, it will be encoded as floats and will cause a schema enforcement error. The best way to avoid this problem is to infer the model schema based on a realistic data sample (training dataset) that includes missing values. Alternatively, you can declare integer columns as doubles (float64) whenever these columns may have missing values. See `Handling Integers With Missing Values <https://www.mlflow.org/docs/latest/models.html#handling-integers-with-missing-values>`_ for more details.\"\n"
     ]
    },
    {
     "name": "stdout",
     "output_type": "stream",
     "text": [
      "🏃 View run useful-midge-988 at: http://127.0.0.1:5000/#/experiments/221207765889808369/runs/8c5357bef2ac4721ba2b1d53c69cc25d\n",
      "🧪 View experiment at: http://127.0.0.1:5000/#/experiments/221207765889808369\n"
     ]
    },
    {
     "name": "stderr",
     "output_type": "stream",
     "text": [
      "2025/09/20 12:53:59 INFO mlflow.utils.autologging_utils: Created MLflow autologging run with ID 'e65fa63e193547d1a6756068cb4be56d', which will track hyperparameters, performance metrics, model artifacts, and lineage information for the current sklearn workflow\n",
      "2025/09/20 12:53:59 WARNING mlflow.utils.autologging_utils: MLflow autologging encountered a warning: \"/Users/omar/.pyenv/versions/insurance/lib/python3.11/site-packages/mlflow/types/utils.py:452: UserWarning: Hint: Inferred schema contains integer column(s). Integer columns in Python cannot represent missing values. If your input data contains missing values at inference time, it will be encoded as floats and will cause a schema enforcement error. The best way to avoid this problem is to infer the model schema based on a realistic data sample (training dataset) that includes missing values. Alternatively, you can declare integer columns as doubles (float64) whenever these columns may have missing values. See `Handling Integers With Missing Values <https://www.mlflow.org/docs/latest/models.html#handling-integers-with-missing-values>`_ for more details.\"\n",
      "2025/09/20 12:53:59 WARNING mlflow.utils.autologging_utils: MLflow autologging encountered a warning: \"/Users/omar/.pyenv/versions/insurance/lib/python3.11/site-packages/mlflow/types/utils.py:452: UserWarning: Hint: Inferred schema contains integer column(s). Integer columns in Python cannot represent missing values. If your input data contains missing values at inference time, it will be encoded as floats and will cause a schema enforcement error. The best way to avoid this problem is to infer the model schema based on a realistic data sample (training dataset) that includes missing values. Alternatively, you can declare integer columns as doubles (float64) whenever these columns may have missing values. See `Handling Integers With Missing Values <https://www.mlflow.org/docs/latest/models.html#handling-integers-with-missing-values>`_ for more details.\"\n"
     ]
    },
    {
     "name": "stdout",
     "output_type": "stream",
     "text": [
      "🏃 View run capricious-goat-616 at: http://127.0.0.1:5000/#/experiments/221207765889808369/runs/7bbd46d71002437c8861e4d10899a4b9\n",
      "🧪 View experiment at: http://127.0.0.1:5000/#/experiments/221207765889808369\n"
     ]
    },
    {
     "name": "stderr",
     "output_type": "stream",
     "text": [
      "2025/09/20 12:54:01 INFO mlflow.utils.autologging_utils: Created MLflow autologging run with ID '3cbe8b8977354e7e9c7e6c9cd50f1586', which will track hyperparameters, performance metrics, model artifacts, and lineage information for the current sklearn workflow\n",
      "2025/09/20 12:54:01 WARNING mlflow.utils.autologging_utils: MLflow autologging encountered a warning: \"/Users/omar/.pyenv/versions/insurance/lib/python3.11/site-packages/mlflow/types/utils.py:452: UserWarning: Hint: Inferred schema contains integer column(s). Integer columns in Python cannot represent missing values. If your input data contains missing values at inference time, it will be encoded as floats and will cause a schema enforcement error. The best way to avoid this problem is to infer the model schema based on a realistic data sample (training dataset) that includes missing values. Alternatively, you can declare integer columns as doubles (float64) whenever these columns may have missing values. See `Handling Integers With Missing Values <https://www.mlflow.org/docs/latest/models.html#handling-integers-with-missing-values>`_ for more details.\"\n",
      "2025/09/20 12:54:01 WARNING mlflow.utils.autologging_utils: MLflow autologging encountered a warning: \"/Users/omar/.pyenv/versions/insurance/lib/python3.11/site-packages/mlflow/types/utils.py:452: UserWarning: Hint: Inferred schema contains integer column(s). Integer columns in Python cannot represent missing values. If your input data contains missing values at inference time, it will be encoded as floats and will cause a schema enforcement error. The best way to avoid this problem is to infer the model schema based on a realistic data sample (training dataset) that includes missing values. Alternatively, you can declare integer columns as doubles (float64) whenever these columns may have missing values. See `Handling Integers With Missing Values <https://www.mlflow.org/docs/latest/models.html#handling-integers-with-missing-values>`_ for more details.\"\n"
     ]
    },
    {
     "name": "stdout",
     "output_type": "stream",
     "text": [
      "🏃 View run tasteful-midge-428 at: http://127.0.0.1:5000/#/experiments/221207765889808369/runs/e65fa63e193547d1a6756068cb4be56d\n",
      "🧪 View experiment at: http://127.0.0.1:5000/#/experiments/221207765889808369\n"
     ]
    },
    {
     "name": "stderr",
     "output_type": "stream",
     "text": [
      "2025/09/20 12:54:02 INFO mlflow.utils.autologging_utils: Created MLflow autologging run with ID 'c6fab8a87d964c1c93a6a7b0bfdc8657', which will track hyperparameters, performance metrics, model artifacts, and lineage information for the current sklearn workflow\n",
      "2025/09/20 12:54:02 WARNING mlflow.utils.autologging_utils: MLflow autologging encountered a warning: \"/Users/omar/.pyenv/versions/insurance/lib/python3.11/site-packages/mlflow/types/utils.py:452: UserWarning: Hint: Inferred schema contains integer column(s). Integer columns in Python cannot represent missing values. If your input data contains missing values at inference time, it will be encoded as floats and will cause a schema enforcement error. The best way to avoid this problem is to infer the model schema based on a realistic data sample (training dataset) that includes missing values. Alternatively, you can declare integer columns as doubles (float64) whenever these columns may have missing values. See `Handling Integers With Missing Values <https://www.mlflow.org/docs/latest/models.html#handling-integers-with-missing-values>`_ for more details.\"\n",
      "2025/09/20 12:54:02 WARNING mlflow.utils.autologging_utils: MLflow autologging encountered a warning: \"/Users/omar/.pyenv/versions/insurance/lib/python3.11/site-packages/mlflow/types/utils.py:452: UserWarning: Hint: Inferred schema contains integer column(s). Integer columns in Python cannot represent missing values. If your input data contains missing values at inference time, it will be encoded as floats and will cause a schema enforcement error. The best way to avoid this problem is to infer the model schema based on a realistic data sample (training dataset) that includes missing values. Alternatively, you can declare integer columns as doubles (float64) whenever these columns may have missing values. See `Handling Integers With Missing Values <https://www.mlflow.org/docs/latest/models.html#handling-integers-with-missing-values>`_ for more details.\"\n"
     ]
    },
    {
     "name": "stdout",
     "output_type": "stream",
     "text": [
      "🏃 View run exultant-mouse-237 at: http://127.0.0.1:5000/#/experiments/221207765889808369/runs/3cbe8b8977354e7e9c7e6c9cd50f1586\n",
      "🧪 View experiment at: http://127.0.0.1:5000/#/experiments/221207765889808369\n"
     ]
    },
    {
     "name": "stderr",
     "output_type": "stream",
     "text": [
      "2025/09/20 12:54:04 INFO mlflow.utils.autologging_utils: Created MLflow autologging run with ID '2885f9a16c0844ab9dcb9fbc0a87bc5e', which will track hyperparameters, performance metrics, model artifacts, and lineage information for the current sklearn workflow\n",
      "2025/09/20 12:54:04 WARNING mlflow.utils.autologging_utils: MLflow autologging encountered a warning: \"/Users/omar/.pyenv/versions/insurance/lib/python3.11/site-packages/mlflow/types/utils.py:452: UserWarning: Hint: Inferred schema contains integer column(s). Integer columns in Python cannot represent missing values. If your input data contains missing values at inference time, it will be encoded as floats and will cause a schema enforcement error. The best way to avoid this problem is to infer the model schema based on a realistic data sample (training dataset) that includes missing values. Alternatively, you can declare integer columns as doubles (float64) whenever these columns may have missing values. See `Handling Integers With Missing Values <https://www.mlflow.org/docs/latest/models.html#handling-integers-with-missing-values>`_ for more details.\"\n",
      "2025/09/20 12:54:04 WARNING mlflow.utils.autologging_utils: MLflow autologging encountered a warning: \"/Users/omar/.pyenv/versions/insurance/lib/python3.11/site-packages/mlflow/types/utils.py:452: UserWarning: Hint: Inferred schema contains integer column(s). Integer columns in Python cannot represent missing values. If your input data contains missing values at inference time, it will be encoded as floats and will cause a schema enforcement error. The best way to avoid this problem is to infer the model schema based on a realistic data sample (training dataset) that includes missing values. Alternatively, you can declare integer columns as doubles (float64) whenever these columns may have missing values. See `Handling Integers With Missing Values <https://www.mlflow.org/docs/latest/models.html#handling-integers-with-missing-values>`_ for more details.\"\n"
     ]
    },
    {
     "name": "stdout",
     "output_type": "stream",
     "text": [
      "🏃 View run bald-hound-479 at: http://127.0.0.1:5000/#/experiments/221207765889808369/runs/c6fab8a87d964c1c93a6a7b0bfdc8657\n",
      "🧪 View experiment at: http://127.0.0.1:5000/#/experiments/221207765889808369\n"
     ]
    },
    {
     "name": "stderr",
     "output_type": "stream",
     "text": [
      "2025/09/20 12:54:05 INFO mlflow.utils.autologging_utils: Created MLflow autologging run with ID '7748f9e34afd43c0a957ab3437043755', which will track hyperparameters, performance metrics, model artifacts, and lineage information for the current sklearn workflow\n",
      "2025/09/20 12:54:05 WARNING mlflow.utils.autologging_utils: MLflow autologging encountered a warning: \"/Users/omar/.pyenv/versions/insurance/lib/python3.11/site-packages/mlflow/types/utils.py:452: UserWarning: Hint: Inferred schema contains integer column(s). Integer columns in Python cannot represent missing values. If your input data contains missing values at inference time, it will be encoded as floats and will cause a schema enforcement error. The best way to avoid this problem is to infer the model schema based on a realistic data sample (training dataset) that includes missing values. Alternatively, you can declare integer columns as doubles (float64) whenever these columns may have missing values. See `Handling Integers With Missing Values <https://www.mlflow.org/docs/latest/models.html#handling-integers-with-missing-values>`_ for more details.\"\n",
      "2025/09/20 12:54:05 WARNING mlflow.utils.autologging_utils: MLflow autologging encountered a warning: \"/Users/omar/.pyenv/versions/insurance/lib/python3.11/site-packages/mlflow/types/utils.py:452: UserWarning: Hint: Inferred schema contains integer column(s). Integer columns in Python cannot represent missing values. If your input data contains missing values at inference time, it will be encoded as floats and will cause a schema enforcement error. The best way to avoid this problem is to infer the model schema based on a realistic data sample (training dataset) that includes missing values. Alternatively, you can declare integer columns as doubles (float64) whenever these columns may have missing values. See `Handling Integers With Missing Values <https://www.mlflow.org/docs/latest/models.html#handling-integers-with-missing-values>`_ for more details.\"\n"
     ]
    },
    {
     "name": "stdout",
     "output_type": "stream",
     "text": [
      "🏃 View run redolent-lynx-972 at: http://127.0.0.1:5000/#/experiments/221207765889808369/runs/2885f9a16c0844ab9dcb9fbc0a87bc5e\n",
      "🧪 View experiment at: http://127.0.0.1:5000/#/experiments/221207765889808369\n"
     ]
    },
    {
     "name": "stderr",
     "output_type": "stream",
     "text": [
      "2025/09/20 12:54:06 INFO mlflow.utils.autologging_utils: Created MLflow autologging run with ID '9aadebc89f174f279cbda4fb65e9ec3b', which will track hyperparameters, performance metrics, model artifacts, and lineage information for the current sklearn workflow\n",
      "2025/09/20 12:54:06 WARNING mlflow.utils.autologging_utils: MLflow autologging encountered a warning: \"/Users/omar/.pyenv/versions/insurance/lib/python3.11/site-packages/mlflow/types/utils.py:452: UserWarning: Hint: Inferred schema contains integer column(s). Integer columns in Python cannot represent missing values. If your input data contains missing values at inference time, it will be encoded as floats and will cause a schema enforcement error. The best way to avoid this problem is to infer the model schema based on a realistic data sample (training dataset) that includes missing values. Alternatively, you can declare integer columns as doubles (float64) whenever these columns may have missing values. See `Handling Integers With Missing Values <https://www.mlflow.org/docs/latest/models.html#handling-integers-with-missing-values>`_ for more details.\"\n",
      "2025/09/20 12:54:06 WARNING mlflow.utils.autologging_utils: MLflow autologging encountered a warning: \"/Users/omar/.pyenv/versions/insurance/lib/python3.11/site-packages/mlflow/types/utils.py:452: UserWarning: Hint: Inferred schema contains integer column(s). Integer columns in Python cannot represent missing values. If your input data contains missing values at inference time, it will be encoded as floats and will cause a schema enforcement error. The best way to avoid this problem is to infer the model schema based on a realistic data sample (training dataset) that includes missing values. Alternatively, you can declare integer columns as doubles (float64) whenever these columns may have missing values. See `Handling Integers With Missing Values <https://www.mlflow.org/docs/latest/models.html#handling-integers-with-missing-values>`_ for more details.\"\n"
     ]
    },
    {
     "name": "stdout",
     "output_type": "stream",
     "text": [
      "🏃 View run gentle-wasp-757 at: http://127.0.0.1:5000/#/experiments/221207765889808369/runs/7748f9e34afd43c0a957ab3437043755\n",
      "🧪 View experiment at: http://127.0.0.1:5000/#/experiments/221207765889808369\n"
     ]
    },
    {
     "name": "stderr",
     "output_type": "stream",
     "text": [
      "2025/09/20 12:54:08 INFO mlflow.utils.autologging_utils: Created MLflow autologging run with ID 'b33c9a0ff95c4ea89faefd923e511af0', which will track hyperparameters, performance metrics, model artifacts, and lineage information for the current sklearn workflow\n",
      "2025/09/20 12:54:08 WARNING mlflow.utils.autologging_utils: MLflow autologging encountered a warning: \"/Users/omar/.pyenv/versions/insurance/lib/python3.11/site-packages/mlflow/types/utils.py:452: UserWarning: Hint: Inferred schema contains integer column(s). Integer columns in Python cannot represent missing values. If your input data contains missing values at inference time, it will be encoded as floats and will cause a schema enforcement error. The best way to avoid this problem is to infer the model schema based on a realistic data sample (training dataset) that includes missing values. Alternatively, you can declare integer columns as doubles (float64) whenever these columns may have missing values. See `Handling Integers With Missing Values <https://www.mlflow.org/docs/latest/models.html#handling-integers-with-missing-values>`_ for more details.\"\n",
      "2025/09/20 12:54:08 WARNING mlflow.utils.autologging_utils: MLflow autologging encountered a warning: \"/Users/omar/.pyenv/versions/insurance/lib/python3.11/site-packages/mlflow/types/utils.py:452: UserWarning: Hint: Inferred schema contains integer column(s). Integer columns in Python cannot represent missing values. If your input data contains missing values at inference time, it will be encoded as floats and will cause a schema enforcement error. The best way to avoid this problem is to infer the model schema based on a realistic data sample (training dataset) that includes missing values. Alternatively, you can declare integer columns as doubles (float64) whenever these columns may have missing values. See `Handling Integers With Missing Values <https://www.mlflow.org/docs/latest/models.html#handling-integers-with-missing-values>`_ for more details.\"\n"
     ]
    },
    {
     "name": "stdout",
     "output_type": "stream",
     "text": [
      "🏃 View run abrasive-crab-605 at: http://127.0.0.1:5000/#/experiments/221207765889808369/runs/9aadebc89f174f279cbda4fb65e9ec3b\n",
      "🧪 View experiment at: http://127.0.0.1:5000/#/experiments/221207765889808369\n",
      "🏃 View run fun-elk-71 at: http://127.0.0.1:5000/#/experiments/221207765889808369/runs/b33c9a0ff95c4ea89faefd923e511af0\n",
      "🧪 View experiment at: http://127.0.0.1:5000/#/experiments/221207765889808369\n"
     ]
    },
    {
     "data": {
      "image/png": "[encoded data removed]",
      "text/plain": [
       "<Figure size 640x480 with 1 Axes>"
      ]
     },
     "metadata": {},
     "output_type": "display_data"
    }
   ],
   "source": [
    "learning_curve_display(lr_hist, X, y_charges)"
   ]
  },
  {
   "cell_type": "code",
   "execution_count": 36,
   "metadata": {},
   "outputs": [
    {
     "name": "stderr",
     "output_type": "stream",
     "text": [
      "2025/09/20 12:54:09 INFO mlflow.utils.autologging_utils: Created MLflow autologging run with ID '4181051558e5447a9aef46b42c43e194', which will track hyperparameters, performance metrics, model artifacts, and lineage information for the current sklearn workflow\n",
      "2025/09/20 12:54:09 WARNING mlflow.utils.autologging_utils: MLflow autologging encountered a warning: \"/Users/omar/.pyenv/versions/insurance/lib/python3.11/site-packages/mlflow/types/utils.py:452: UserWarning: Hint: Inferred schema contains integer column(s). Integer columns in Python cannot represent missing values. If your input data contains missing values at inference time, it will be encoded as floats and will cause a schema enforcement error. The best way to avoid this problem is to infer the model schema based on a realistic data sample (training dataset) that includes missing values. Alternatively, you can declare integer columns as doubles (float64) whenever these columns may have missing values. See `Handling Integers With Missing Values <https://www.mlflow.org/docs/latest/models.html#handling-integers-with-missing-values>`_ for more details.\"\n",
      "2025/09/20 12:54:09 WARNING mlflow.utils.autologging_utils: MLflow autologging encountered a warning: \"/Users/omar/.pyenv/versions/insurance/lib/python3.11/site-packages/mlflow/types/utils.py:452: UserWarning: Hint: Inferred schema contains integer column(s). Integer columns in Python cannot represent missing values. If your input data contains missing values at inference time, it will be encoded as floats and will cause a schema enforcement error. The best way to avoid this problem is to infer the model schema based on a realistic data sample (training dataset) that includes missing values. Alternatively, you can declare integer columns as doubles (float64) whenever these columns may have missing values. See `Handling Integers With Missing Values <https://www.mlflow.org/docs/latest/models.html#handling-integers-with-missing-values>`_ for more details.\"\n",
      "2025/09/20 12:54:11 INFO mlflow.utils.autologging_utils: Created MLflow autologging run with ID 'ff440d837be24126bc4dce1f01213d1b', which will track hyperparameters, performance metrics, model artifacts, and lineage information for the current sklearn workflow\n",
      "2025/09/20 12:54:11 WARNING mlflow.utils.autologging_utils: MLflow autologging encountered a warning: \"/Users/omar/.pyenv/versions/insurance/lib/python3.11/site-packages/mlflow/types/utils.py:452: UserWarning: Hint: Inferred schema contains integer column(s). Integer columns in Python cannot represent missing values. If your input data contains missing values at inference time, it will be encoded as floats and will cause a schema enforcement error. The best way to avoid this problem is to infer the model schema based on a realistic data sample (training dataset) that includes missing values. Alternatively, you can declare integer columns as doubles (float64) whenever these columns may have missing values. See `Handling Integers With Missing Values <https://www.mlflow.org/docs/latest/models.html#handling-integers-with-missing-values>`_ for more details.\"\n",
      "2025/09/20 12:54:11 WARNING mlflow.utils.autologging_utils: MLflow autologging encountered a warning: \"/Users/omar/.pyenv/versions/insurance/lib/python3.11/site-packages/mlflow/types/utils.py:452: UserWarning: Hint: Inferred schema contains integer column(s). Integer columns in Python cannot represent missing values. If your input data contains missing values at inference time, it will be encoded as floats and will cause a schema enforcement error. The best way to avoid this problem is to infer the model schema based on a realistic data sample (training dataset) that includes missing values. Alternatively, you can declare integer columns as doubles (float64) whenever these columns may have missing values. See `Handling Integers With Missing Values <https://www.mlflow.org/docs/latest/models.html#handling-integers-with-missing-values>`_ for more details.\"\n"
     ]
    },
    {
     "name": "stdout",
     "output_type": "stream",
     "text": [
      "🏃 View run defiant-sow-644 at: http://127.0.0.1:5000/#/experiments/221207765889808369/runs/4181051558e5447a9aef46b42c43e194\n",
      "🧪 View experiment at: http://127.0.0.1:5000/#/experiments/221207765889808369\n"
     ]
    },
    {
     "name": "stderr",
     "output_type": "stream",
     "text": [
      "2025/09/20 12:54:12 INFO mlflow.utils.autologging_utils: Created MLflow autologging run with ID '20f68c58dc0d488986d99818cdbcb621', which will track hyperparameters, performance metrics, model artifacts, and lineage information for the current sklearn workflow\n",
      "2025/09/20 12:54:12 WARNING mlflow.utils.autologging_utils: MLflow autologging encountered a warning: \"/Users/omar/.pyenv/versions/insurance/lib/python3.11/site-packages/mlflow/types/utils.py:452: UserWarning: Hint: Inferred schema contains integer column(s). Integer columns in Python cannot represent missing values. If your input data contains missing values at inference time, it will be encoded as floats and will cause a schema enforcement error. The best way to avoid this problem is to infer the model schema based on a realistic data sample (training dataset) that includes missing values. Alternatively, you can declare integer columns as doubles (float64) whenever these columns may have missing values. See `Handling Integers With Missing Values <https://www.mlflow.org/docs/latest/models.html#handling-integers-with-missing-values>`_ for more details.\"\n",
      "2025/09/20 12:54:12 WARNING mlflow.utils.autologging_utils: MLflow autologging encountered a warning: \"/Users/omar/.pyenv/versions/insurance/lib/python3.11/site-packages/mlflow/types/utils.py:452: UserWarning: Hint: Inferred schema contains integer column(s). Integer columns in Python cannot represent missing values. If your input data contains missing values at inference time, it will be encoded as floats and will cause a schema enforcement error. The best way to avoid this problem is to infer the model schema based on a realistic data sample (training dataset) that includes missing values. Alternatively, you can declare integer columns as doubles (float64) whenever these columns may have missing values. See `Handling Integers With Missing Values <https://www.mlflow.org/docs/latest/models.html#handling-integers-with-missing-values>`_ for more details.\"\n"
     ]
    },
    {
     "name": "stdout",
     "output_type": "stream",
     "text": [
      "🏃 View run sassy-ant-813 at: http://127.0.0.1:5000/#/experiments/221207765889808369/runs/ff440d837be24126bc4dce1f01213d1b\n",
      "🧪 View experiment at: http://127.0.0.1:5000/#/experiments/221207765889808369\n"
     ]
    },
    {
     "name": "stderr",
     "output_type": "stream",
     "text": [
      "2025/09/20 12:54:14 INFO mlflow.utils.autologging_utils: Created MLflow autologging run with ID 'fba68a0328b845ea93243860933d415b', which will track hyperparameters, performance metrics, model artifacts, and lineage information for the current sklearn workflow\n",
      "2025/09/20 12:54:14 WARNING mlflow.utils.autologging_utils: MLflow autologging encountered a warning: \"/Users/omar/.pyenv/versions/insurance/lib/python3.11/site-packages/mlflow/types/utils.py:452: UserWarning: Hint: Inferred schema contains integer column(s). Integer columns in Python cannot represent missing values. If your input data contains missing values at inference time, it will be encoded as floats and will cause a schema enforcement error. The best way to avoid this problem is to infer the model schema based on a realistic data sample (training dataset) that includes missing values. Alternatively, you can declare integer columns as doubles (float64) whenever these columns may have missing values. See `Handling Integers With Missing Values <https://www.mlflow.org/docs/latest/models.html#handling-integers-with-missing-values>`_ for more details.\"\n",
      "2025/09/20 12:54:14 WARNING mlflow.utils.autologging_utils: MLflow autologging encountered a warning: \"/Users/omar/.pyenv/versions/insurance/lib/python3.11/site-packages/mlflow/types/utils.py:452: UserWarning: Hint: Inferred schema contains integer column(s). Integer columns in Python cannot represent missing values. If your input data contains missing values at inference time, it will be encoded as floats and will cause a schema enforcement error. The best way to avoid this problem is to infer the model schema based on a realistic data sample (training dataset) that includes missing values. Alternatively, you can declare integer columns as doubles (float64) whenever these columns may have missing values. See `Handling Integers With Missing Values <https://www.mlflow.org/docs/latest/models.html#handling-integers-with-missing-values>`_ for more details.\"\n"
     ]
    },
    {
     "name": "stdout",
     "output_type": "stream",
     "text": [
      "🏃 View run efficient-cub-52 at: http://127.0.0.1:5000/#/experiments/221207765889808369/runs/20f68c58dc0d488986d99818cdbcb621\n",
      "🧪 View experiment at: http://127.0.0.1:5000/#/experiments/221207765889808369\n"
     ]
    },
    {
     "name": "stderr",
     "output_type": "stream",
     "text": [
      "2025/09/20 12:54:15 INFO mlflow.utils.autologging_utils: Created MLflow autologging run with ID '5b86448e79024558b0a5e7b3349b77e8', which will track hyperparameters, performance metrics, model artifacts, and lineage information for the current sklearn workflow\n",
      "2025/09/20 12:54:15 WARNING mlflow.utils.autologging_utils: MLflow autologging encountered a warning: \"/Users/omar/.pyenv/versions/insurance/lib/python3.11/site-packages/mlflow/types/utils.py:452: UserWarning: Hint: Inferred schema contains integer column(s). Integer columns in Python cannot represent missing values. If your input data contains missing values at inference time, it will be encoded as floats and will cause a schema enforcement error. The best way to avoid this problem is to infer the model schema based on a realistic data sample (training dataset) that includes missing values. Alternatively, you can declare integer columns as doubles (float64) whenever these columns may have missing values. See `Handling Integers With Missing Values <https://www.mlflow.org/docs/latest/models.html#handling-integers-with-missing-values>`_ for more details.\"\n",
      "2025/09/20 12:54:15 WARNING mlflow.utils.autologging_utils: MLflow autologging encountered a warning: \"/Users/omar/.pyenv/versions/insurance/lib/python3.11/site-packages/mlflow/types/utils.py:452: UserWarning: Hint: Inferred schema contains integer column(s). Integer columns in Python cannot represent missing values. If your input data contains missing values at inference time, it will be encoded as floats and will cause a schema enforcement error. The best way to avoid this problem is to infer the model schema based on a realistic data sample (training dataset) that includes missing values. Alternatively, you can declare integer columns as doubles (float64) whenever these columns may have missing values. See `Handling Integers With Missing Values <https://www.mlflow.org/docs/latest/models.html#handling-integers-with-missing-values>`_ for more details.\"\n"
     ]
    },
    {
     "name": "stdout",
     "output_type": "stream",
     "text": [
      "🏃 View run nebulous-smelt-560 at: http://127.0.0.1:5000/#/experiments/221207765889808369/runs/fba68a0328b845ea93243860933d415b\n",
      "🧪 View experiment at: http://127.0.0.1:5000/#/experiments/221207765889808369\n"
     ]
    },
    {
     "name": "stderr",
     "output_type": "stream",
     "text": [
      "2025/09/20 12:54:17 INFO mlflow.utils.autologging_utils: Created MLflow autologging run with ID '223b3438dd5a490183612553402fd38d', which will track hyperparameters, performance metrics, model artifacts, and lineage information for the current sklearn workflow\n",
      "2025/09/20 12:54:17 WARNING mlflow.utils.autologging_utils: MLflow autologging encountered a warning: \"/Users/omar/.pyenv/versions/insurance/lib/python3.11/site-packages/mlflow/types/utils.py:452: UserWarning: Hint: Inferred schema contains integer column(s). Integer columns in Python cannot represent missing values. If your input data contains missing values at inference time, it will be encoded as floats and will cause a schema enforcement error. The best way to avoid this problem is to infer the model schema based on a realistic data sample (training dataset) that includes missing values. Alternatively, you can declare integer columns as doubles (float64) whenever these columns may have missing values. See `Handling Integers With Missing Values <https://www.mlflow.org/docs/latest/models.html#handling-integers-with-missing-values>`_ for more details.\"\n",
      "2025/09/20 12:54:17 WARNING mlflow.utils.autologging_utils: MLflow autologging encountered a warning: \"/Users/omar/.pyenv/versions/insurance/lib/python3.11/site-packages/mlflow/types/utils.py:452: UserWarning: Hint: Inferred schema contains integer column(s). Integer columns in Python cannot represent missing values. If your input data contains missing values at inference time, it will be encoded as floats and will cause a schema enforcement error. The best way to avoid this problem is to infer the model schema based on a realistic data sample (training dataset) that includes missing values. Alternatively, you can declare integer columns as doubles (float64) whenever these columns may have missing values. See `Handling Integers With Missing Values <https://www.mlflow.org/docs/latest/models.html#handling-integers-with-missing-values>`_ for more details.\"\n"
     ]
    },
    {
     "name": "stdout",
     "output_type": "stream",
     "text": [
      "🏃 View run rumbling-gnu-329 at: http://127.0.0.1:5000/#/experiments/221207765889808369/runs/5b86448e79024558b0a5e7b3349b77e8\n",
      "🧪 View experiment at: http://127.0.0.1:5000/#/experiments/221207765889808369\n"
     ]
    },
    {
     "name": "stderr",
     "output_type": "stream",
     "text": [
      "2025/09/20 12:54:18 INFO mlflow.utils.autologging_utils: Created MLflow autologging run with ID '8ec9309941ed4cef922d9b5ab01f68d6', which will track hyperparameters, performance metrics, model artifacts, and lineage information for the current sklearn workflow\n",
      "2025/09/20 12:54:18 WARNING mlflow.utils.autologging_utils: MLflow autologging encountered a warning: \"/Users/omar/.pyenv/versions/insurance/lib/python3.11/site-packages/mlflow/types/utils.py:452: UserWarning: Hint: Inferred schema contains integer column(s). Integer columns in Python cannot represent missing values. If your input data contains missing values at inference time, it will be encoded as floats and will cause a schema enforcement error. The best way to avoid this problem is to infer the model schema based on a realistic data sample (training dataset) that includes missing values. Alternatively, you can declare integer columns as doubles (float64) whenever these columns may have missing values. See `Handling Integers With Missing Values <https://www.mlflow.org/docs/latest/models.html#handling-integers-with-missing-values>`_ for more details.\"\n",
      "2025/09/20 12:54:18 WARNING mlflow.utils.autologging_utils: MLflow autologging encountered a warning: \"/Users/omar/.pyenv/versions/insurance/lib/python3.11/site-packages/mlflow/types/utils.py:452: UserWarning: Hint: Inferred schema contains integer column(s). Integer columns in Python cannot represent missing values. If your input data contains missing values at inference time, it will be encoded as floats and will cause a schema enforcement error. The best way to avoid this problem is to infer the model schema based on a realistic data sample (training dataset) that includes missing values. Alternatively, you can declare integer columns as doubles (float64) whenever these columns may have missing values. See `Handling Integers With Missing Values <https://www.mlflow.org/docs/latest/models.html#handling-integers-with-missing-values>`_ for more details.\"\n"
     ]
    },
    {
     "name": "stdout",
     "output_type": "stream",
     "text": [
      "🏃 View run treasured-stork-551 at: http://127.0.0.1:5000/#/experiments/221207765889808369/runs/223b3438dd5a490183612553402fd38d\n",
      "🧪 View experiment at: http://127.0.0.1:5000/#/experiments/221207765889808369\n"
     ]
    },
    {
     "name": "stderr",
     "output_type": "stream",
     "text": [
      "2025/09/20 12:54:19 INFO mlflow.utils.autologging_utils: Created MLflow autologging run with ID 'c342e46519764747a26dfe534835c7c3', which will track hyperparameters, performance metrics, model artifacts, and lineage information for the current sklearn workflow\n",
      "2025/09/20 12:54:19 WARNING mlflow.utils.autologging_utils: MLflow autologging encountered a warning: \"/Users/omar/.pyenv/versions/insurance/lib/python3.11/site-packages/mlflow/types/utils.py:452: UserWarning: Hint: Inferred schema contains integer column(s). Integer columns in Python cannot represent missing values. If your input data contains missing values at inference time, it will be encoded as floats and will cause a schema enforcement error. The best way to avoid this problem is to infer the model schema based on a realistic data sample (training dataset) that includes missing values. Alternatively, you can declare integer columns as doubles (float64) whenever these columns may have missing values. See `Handling Integers With Missing Values <https://www.mlflow.org/docs/latest/models.html#handling-integers-with-missing-values>`_ for more details.\"\n",
      "2025/09/20 12:54:19 WARNING mlflow.utils.autologging_utils: MLflow autologging encountered a warning: \"/Users/omar/.pyenv/versions/insurance/lib/python3.11/site-packages/mlflow/types/utils.py:452: UserWarning: Hint: Inferred schema contains integer column(s). Integer columns in Python cannot represent missing values. If your input data contains missing values at inference time, it will be encoded as floats and will cause a schema enforcement error. The best way to avoid this problem is to infer the model schema based on a realistic data sample (training dataset) that includes missing values. Alternatively, you can declare integer columns as doubles (float64) whenever these columns may have missing values. See `Handling Integers With Missing Values <https://www.mlflow.org/docs/latest/models.html#handling-integers-with-missing-values>`_ for more details.\"\n"
     ]
    },
    {
     "name": "stdout",
     "output_type": "stream",
     "text": [
      "🏃 View run salty-sheep-147 at: http://127.0.0.1:5000/#/experiments/221207765889808369/runs/8ec9309941ed4cef922d9b5ab01f68d6\n",
      "🧪 View experiment at: http://127.0.0.1:5000/#/experiments/221207765889808369\n"
     ]
    },
    {
     "name": "stderr",
     "output_type": "stream",
     "text": [
      "2025/09/20 12:54:21 INFO mlflow.utils.autologging_utils: Created MLflow autologging run with ID 'b0183023280b417ca4c16dea7abdf721', which will track hyperparameters, performance metrics, model artifacts, and lineage information for the current sklearn workflow\n",
      "2025/09/20 12:54:21 WARNING mlflow.utils.autologging_utils: MLflow autologging encountered a warning: \"/Users/omar/.pyenv/versions/insurance/lib/python3.11/site-packages/mlflow/types/utils.py:452: UserWarning: Hint: Inferred schema contains integer column(s). Integer columns in Python cannot represent missing values. If your input data contains missing values at inference time, it will be encoded as floats and will cause a schema enforcement error. The best way to avoid this problem is to infer the model schema based on a realistic data sample (training dataset) that includes missing values. Alternatively, you can declare integer columns as doubles (float64) whenever these columns may have missing values. See `Handling Integers With Missing Values <https://www.mlflow.org/docs/latest/models.html#handling-integers-with-missing-values>`_ for more details.\"\n",
      "2025/09/20 12:54:21 WARNING mlflow.utils.autologging_utils: MLflow autologging encountered a warning: \"/Users/omar/.pyenv/versions/insurance/lib/python3.11/site-packages/mlflow/types/utils.py:452: UserWarning: Hint: Inferred schema contains integer column(s). Integer columns in Python cannot represent missing values. If your input data contains missing values at inference time, it will be encoded as floats and will cause a schema enforcement error. The best way to avoid this problem is to infer the model schema based on a realistic data sample (training dataset) that includes missing values. Alternatively, you can declare integer columns as doubles (float64) whenever these columns may have missing values. See `Handling Integers With Missing Values <https://www.mlflow.org/docs/latest/models.html#handling-integers-with-missing-values>`_ for more details.\"\n"
     ]
    },
    {
     "name": "stdout",
     "output_type": "stream",
     "text": [
      "🏃 View run serious-bass-360 at: http://127.0.0.1:5000/#/experiments/221207765889808369/runs/c342e46519764747a26dfe534835c7c3\n",
      "🧪 View experiment at: http://127.0.0.1:5000/#/experiments/221207765889808369\n"
     ]
    },
    {
     "name": "stderr",
     "output_type": "stream",
     "text": [
      "2025/09/20 12:54:22 INFO mlflow.utils.autologging_utils: Created MLflow autologging run with ID '198a4c54517549889ae397f46cda5d9b', which will track hyperparameters, performance metrics, model artifacts, and lineage information for the current sklearn workflow\n",
      "2025/09/20 12:54:22 WARNING mlflow.utils.autologging_utils: MLflow autologging encountered a warning: \"/Users/omar/.pyenv/versions/insurance/lib/python3.11/site-packages/mlflow/types/utils.py:452: UserWarning: Hint: Inferred schema contains integer column(s). Integer columns in Python cannot represent missing values. If your input data contains missing values at inference time, it will be encoded as floats and will cause a schema enforcement error. The best way to avoid this problem is to infer the model schema based on a realistic data sample (training dataset) that includes missing values. Alternatively, you can declare integer columns as doubles (float64) whenever these columns may have missing values. See `Handling Integers With Missing Values <https://www.mlflow.org/docs/latest/models.html#handling-integers-with-missing-values>`_ for more details.\"\n",
      "2025/09/20 12:54:22 WARNING mlflow.utils.autologging_utils: MLflow autologging encountered a warning: \"/Users/omar/.pyenv/versions/insurance/lib/python3.11/site-packages/mlflow/types/utils.py:452: UserWarning: Hint: Inferred schema contains integer column(s). Integer columns in Python cannot represent missing values. If your input data contains missing values at inference time, it will be encoded as floats and will cause a schema enforcement error. The best way to avoid this problem is to infer the model schema based on a realistic data sample (training dataset) that includes missing values. Alternatively, you can declare integer columns as doubles (float64) whenever these columns may have missing values. See `Handling Integers With Missing Values <https://www.mlflow.org/docs/latest/models.html#handling-integers-with-missing-values>`_ for more details.\"\n"
     ]
    },
    {
     "name": "stdout",
     "output_type": "stream",
     "text": [
      "🏃 View run nimble-swan-735 at: http://127.0.0.1:5000/#/experiments/221207765889808369/runs/b0183023280b417ca4c16dea7abdf721\n",
      "🧪 View experiment at: http://127.0.0.1:5000/#/experiments/221207765889808369\n"
     ]
    },
    {
     "name": "stderr",
     "output_type": "stream",
     "text": [
      "2025/09/20 12:54:24 INFO mlflow.utils.autologging_utils: Created MLflow autologging run with ID 'fccc59f3150f4b168badc2dba5c2d069', which will track hyperparameters, performance metrics, model artifacts, and lineage information for the current sklearn workflow\n",
      "2025/09/20 12:54:24 WARNING mlflow.utils.autologging_utils: MLflow autologging encountered a warning: \"/Users/omar/.pyenv/versions/insurance/lib/python3.11/site-packages/mlflow/types/utils.py:452: UserWarning: Hint: Inferred schema contains integer column(s). Integer columns in Python cannot represent missing values. If your input data contains missing values at inference time, it will be encoded as floats and will cause a schema enforcement error. The best way to avoid this problem is to infer the model schema based on a realistic data sample (training dataset) that includes missing values. Alternatively, you can declare integer columns as doubles (float64) whenever these columns may have missing values. See `Handling Integers With Missing Values <https://www.mlflow.org/docs/latest/models.html#handling-integers-with-missing-values>`_ for more details.\"\n",
      "2025/09/20 12:54:24 WARNING mlflow.utils.autologging_utils: MLflow autologging encountered a warning: \"/Users/omar/.pyenv/versions/insurance/lib/python3.11/site-packages/mlflow/types/utils.py:452: UserWarning: Hint: Inferred schema contains integer column(s). Integer columns in Python cannot represent missing values. If your input data contains missing values at inference time, it will be encoded as floats and will cause a schema enforcement error. The best way to avoid this problem is to infer the model schema based on a realistic data sample (training dataset) that includes missing values. Alternatively, you can declare integer columns as doubles (float64) whenever these columns may have missing values. See `Handling Integers With Missing Values <https://www.mlflow.org/docs/latest/models.html#handling-integers-with-missing-values>`_ for more details.\"\n"
     ]
    },
    {
     "name": "stdout",
     "output_type": "stream",
     "text": [
      "🏃 View run fortunate-midge-715 at: http://127.0.0.1:5000/#/experiments/221207765889808369/runs/198a4c54517549889ae397f46cda5d9b\n",
      "🧪 View experiment at: http://127.0.0.1:5000/#/experiments/221207765889808369\n"
     ]
    },
    {
     "name": "stderr",
     "output_type": "stream",
     "text": [
      "2025/09/20 12:54:25 INFO mlflow.utils.autologging_utils: Created MLflow autologging run with ID 'aeddb7b4f9c84ec5985735e558308730', which will track hyperparameters, performance metrics, model artifacts, and lineage information for the current sklearn workflow\n",
      "2025/09/20 12:54:25 WARNING mlflow.utils.autologging_utils: MLflow autologging encountered a warning: \"/Users/omar/.pyenv/versions/insurance/lib/python3.11/site-packages/mlflow/types/utils.py:452: UserWarning: Hint: Inferred schema contains integer column(s). Integer columns in Python cannot represent missing values. If your input data contains missing values at inference time, it will be encoded as floats and will cause a schema enforcement error. The best way to avoid this problem is to infer the model schema based on a realistic data sample (training dataset) that includes missing values. Alternatively, you can declare integer columns as doubles (float64) whenever these columns may have missing values. See `Handling Integers With Missing Values <https://www.mlflow.org/docs/latest/models.html#handling-integers-with-missing-values>`_ for more details.\"\n",
      "2025/09/20 12:54:25 WARNING mlflow.utils.autologging_utils: MLflow autologging encountered a warning: \"/Users/omar/.pyenv/versions/insurance/lib/python3.11/site-packages/mlflow/types/utils.py:452: UserWarning: Hint: Inferred schema contains integer column(s). Integer columns in Python cannot represent missing values. If your input data contains missing values at inference time, it will be encoded as floats and will cause a schema enforcement error. The best way to avoid this problem is to infer the model schema based on a realistic data sample (training dataset) that includes missing values. Alternatively, you can declare integer columns as doubles (float64) whenever these columns may have missing values. See `Handling Integers With Missing Values <https://www.mlflow.org/docs/latest/models.html#handling-integers-with-missing-values>`_ for more details.\"\n"
     ]
    },
    {
     "name": "stdout",
     "output_type": "stream",
     "text": [
      "🏃 View run adaptable-colt-521 at: http://127.0.0.1:5000/#/experiments/221207765889808369/runs/fccc59f3150f4b168badc2dba5c2d069\n",
      "🧪 View experiment at: http://127.0.0.1:5000/#/experiments/221207765889808369\n"
     ]
    },
    {
     "name": "stderr",
     "output_type": "stream",
     "text": [
      "2025/09/20 12:54:27 INFO mlflow.utils.autologging_utils: Created MLflow autologging run with ID '78795b8da85b4ff58051e89e52d65fc0', which will track hyperparameters, performance metrics, model artifacts, and lineage information for the current sklearn workflow\n",
      "2025/09/20 12:54:27 WARNING mlflow.utils.autologging_utils: MLflow autologging encountered a warning: \"/Users/omar/.pyenv/versions/insurance/lib/python3.11/site-packages/mlflow/types/utils.py:452: UserWarning: Hint: Inferred schema contains integer column(s). Integer columns in Python cannot represent missing values. If your input data contains missing values at inference time, it will be encoded as floats and will cause a schema enforcement error. The best way to avoid this problem is to infer the model schema based on a realistic data sample (training dataset) that includes missing values. Alternatively, you can declare integer columns as doubles (float64) whenever these columns may have missing values. See `Handling Integers With Missing Values <https://www.mlflow.org/docs/latest/models.html#handling-integers-with-missing-values>`_ for more details.\"\n",
      "2025/09/20 12:54:27 WARNING mlflow.utils.autologging_utils: MLflow autologging encountered a warning: \"/Users/omar/.pyenv/versions/insurance/lib/python3.11/site-packages/mlflow/types/utils.py:452: UserWarning: Hint: Inferred schema contains integer column(s). Integer columns in Python cannot represent missing values. If your input data contains missing values at inference time, it will be encoded as floats and will cause a schema enforcement error. The best way to avoid this problem is to infer the model schema based on a realistic data sample (training dataset) that includes missing values. Alternatively, you can declare integer columns as doubles (float64) whenever these columns may have missing values. See `Handling Integers With Missing Values <https://www.mlflow.org/docs/latest/models.html#handling-integers-with-missing-values>`_ for more details.\"\n"
     ]
    },
    {
     "name": "stdout",
     "output_type": "stream",
     "text": [
      "🏃 View run debonair-croc-971 at: http://127.0.0.1:5000/#/experiments/221207765889808369/runs/aeddb7b4f9c84ec5985735e558308730\n",
      "🧪 View experiment at: http://127.0.0.1:5000/#/experiments/221207765889808369\n"
     ]
    },
    {
     "name": "stderr",
     "output_type": "stream",
     "text": [
      "2025/09/20 12:54:28 INFO mlflow.utils.autologging_utils: Created MLflow autologging run with ID 'c13a70fc88d44df8a22e9917c85ed6f3', which will track hyperparameters, performance metrics, model artifacts, and lineage information for the current sklearn workflow\n",
      "2025/09/20 12:54:28 WARNING mlflow.utils.autologging_utils: MLflow autologging encountered a warning: \"/Users/omar/.pyenv/versions/insurance/lib/python3.11/site-packages/mlflow/types/utils.py:452: UserWarning: Hint: Inferred schema contains integer column(s). Integer columns in Python cannot represent missing values. If your input data contains missing values at inference time, it will be encoded as floats and will cause a schema enforcement error. The best way to avoid this problem is to infer the model schema based on a realistic data sample (training dataset) that includes missing values. Alternatively, you can declare integer columns as doubles (float64) whenever these columns may have missing values. See `Handling Integers With Missing Values <https://www.mlflow.org/docs/latest/models.html#handling-integers-with-missing-values>`_ for more details.\"\n",
      "2025/09/20 12:54:28 WARNING mlflow.utils.autologging_utils: MLflow autologging encountered a warning: \"/Users/omar/.pyenv/versions/insurance/lib/python3.11/site-packages/mlflow/types/utils.py:452: UserWarning: Hint: Inferred schema contains integer column(s). Integer columns in Python cannot represent missing values. If your input data contains missing values at inference time, it will be encoded as floats and will cause a schema enforcement error. The best way to avoid this problem is to infer the model schema based on a realistic data sample (training dataset) that includes missing values. Alternatively, you can declare integer columns as doubles (float64) whenever these columns may have missing values. See `Handling Integers With Missing Values <https://www.mlflow.org/docs/latest/models.html#handling-integers-with-missing-values>`_ for more details.\"\n"
     ]
    },
    {
     "name": "stdout",
     "output_type": "stream",
     "text": [
      "🏃 View run angry-grouse-999 at: http://127.0.0.1:5000/#/experiments/221207765889808369/runs/78795b8da85b4ff58051e89e52d65fc0\n",
      "🧪 View experiment at: http://127.0.0.1:5000/#/experiments/221207765889808369\n"
     ]
    },
    {
     "name": "stderr",
     "output_type": "stream",
     "text": [
      "2025/09/20 12:54:30 INFO mlflow.utils.autologging_utils: Created MLflow autologging run with ID '1f5c18dc8b7c48e9be49546370104873', which will track hyperparameters, performance metrics, model artifacts, and lineage information for the current sklearn workflow\n",
      "2025/09/20 12:54:30 WARNING mlflow.utils.autologging_utils: MLflow autologging encountered a warning: \"/Users/omar/.pyenv/versions/insurance/lib/python3.11/site-packages/mlflow/types/utils.py:452: UserWarning: Hint: Inferred schema contains integer column(s). Integer columns in Python cannot represent missing values. If your input data contains missing values at inference time, it will be encoded as floats and will cause a schema enforcement error. The best way to avoid this problem is to infer the model schema based on a realistic data sample (training dataset) that includes missing values. Alternatively, you can declare integer columns as doubles (float64) whenever these columns may have missing values. See `Handling Integers With Missing Values <https://www.mlflow.org/docs/latest/models.html#handling-integers-with-missing-values>`_ for more details.\"\n",
      "2025/09/20 12:54:30 WARNING mlflow.utils.autologging_utils: MLflow autologging encountered a warning: \"/Users/omar/.pyenv/versions/insurance/lib/python3.11/site-packages/mlflow/types/utils.py:452: UserWarning: Hint: Inferred schema contains integer column(s). Integer columns in Python cannot represent missing values. If your input data contains missing values at inference time, it will be encoded as floats and will cause a schema enforcement error. The best way to avoid this problem is to infer the model schema based on a realistic data sample (training dataset) that includes missing values. Alternatively, you can declare integer columns as doubles (float64) whenever these columns may have missing values. See `Handling Integers With Missing Values <https://www.mlflow.org/docs/latest/models.html#handling-integers-with-missing-values>`_ for more details.\"\n"
     ]
    },
    {
     "name": "stdout",
     "output_type": "stream",
     "text": [
      "🏃 View run auspicious-sow-497 at: http://127.0.0.1:5000/#/experiments/221207765889808369/runs/c13a70fc88d44df8a22e9917c85ed6f3\n",
      "🧪 View experiment at: http://127.0.0.1:5000/#/experiments/221207765889808369\n"
     ]
    },
    {
     "name": "stderr",
     "output_type": "stream",
     "text": [
      "2025/09/20 12:54:31 INFO mlflow.utils.autologging_utils: Created MLflow autologging run with ID '09273773023f4c86a44a8a74a39a7925', which will track hyperparameters, performance metrics, model artifacts, and lineage information for the current sklearn workflow\n",
      "2025/09/20 12:54:31 WARNING mlflow.utils.autologging_utils: MLflow autologging encountered a warning: \"/Users/omar/.pyenv/versions/insurance/lib/python3.11/site-packages/mlflow/types/utils.py:452: UserWarning: Hint: Inferred schema contains integer column(s). Integer columns in Python cannot represent missing values. If your input data contains missing values at inference time, it will be encoded as floats and will cause a schema enforcement error. The best way to avoid this problem is to infer the model schema based on a realistic data sample (training dataset) that includes missing values. Alternatively, you can declare integer columns as doubles (float64) whenever these columns may have missing values. See `Handling Integers With Missing Values <https://www.mlflow.org/docs/latest/models.html#handling-integers-with-missing-values>`_ for more details.\"\n",
      "2025/09/20 12:54:31 WARNING mlflow.utils.autologging_utils: MLflow autologging encountered a warning: \"/Users/omar/.pyenv/versions/insurance/lib/python3.11/site-packages/mlflow/types/utils.py:452: UserWarning: Hint: Inferred schema contains integer column(s). Integer columns in Python cannot represent missing values. If your input data contains missing values at inference time, it will be encoded as floats and will cause a schema enforcement error. The best way to avoid this problem is to infer the model schema based on a realistic data sample (training dataset) that includes missing values. Alternatively, you can declare integer columns as doubles (float64) whenever these columns may have missing values. See `Handling Integers With Missing Values <https://www.mlflow.org/docs/latest/models.html#handling-integers-with-missing-values>`_ for more details.\"\n"
     ]
    },
    {
     "name": "stdout",
     "output_type": "stream",
     "text": [
      "🏃 View run sassy-bear-644 at: http://127.0.0.1:5000/#/experiments/221207765889808369/runs/1f5c18dc8b7c48e9be49546370104873\n",
      "🧪 View experiment at: http://127.0.0.1:5000/#/experiments/221207765889808369\n"
     ]
    },
    {
     "name": "stderr",
     "output_type": "stream",
     "text": [
      "2025/09/20 12:54:33 INFO mlflow.utils.autologging_utils: Created MLflow autologging run with ID '0b16f2982cc145d7be1819a96b41fe5d', which will track hyperparameters, performance metrics, model artifacts, and lineage information for the current sklearn workflow\n",
      "2025/09/20 12:54:33 WARNING mlflow.utils.autologging_utils: MLflow autologging encountered a warning: \"/Users/omar/.pyenv/versions/insurance/lib/python3.11/site-packages/mlflow/types/utils.py:452: UserWarning: Hint: Inferred schema contains integer column(s). Integer columns in Python cannot represent missing values. If your input data contains missing values at inference time, it will be encoded as floats and will cause a schema enforcement error. The best way to avoid this problem is to infer the model schema based on a realistic data sample (training dataset) that includes missing values. Alternatively, you can declare integer columns as doubles (float64) whenever these columns may have missing values. See `Handling Integers With Missing Values <https://www.mlflow.org/docs/latest/models.html#handling-integers-with-missing-values>`_ for more details.\"\n",
      "2025/09/20 12:54:33 WARNING mlflow.utils.autologging_utils: MLflow autologging encountered a warning: \"/Users/omar/.pyenv/versions/insurance/lib/python3.11/site-packages/mlflow/types/utils.py:452: UserWarning: Hint: Inferred schema contains integer column(s). Integer columns in Python cannot represent missing values. If your input data contains missing values at inference time, it will be encoded as floats and will cause a schema enforcement error. The best way to avoid this problem is to infer the model schema based on a realistic data sample (training dataset) that includes missing values. Alternatively, you can declare integer columns as doubles (float64) whenever these columns may have missing values. See `Handling Integers With Missing Values <https://www.mlflow.org/docs/latest/models.html#handling-integers-with-missing-values>`_ for more details.\"\n"
     ]
    },
    {
     "name": "stdout",
     "output_type": "stream",
     "text": [
      "🏃 View run enchanting-pig-654 at: http://127.0.0.1:5000/#/experiments/221207765889808369/runs/09273773023f4c86a44a8a74a39a7925\n",
      "🧪 View experiment at: http://127.0.0.1:5000/#/experiments/221207765889808369\n"
     ]
    },
    {
     "name": "stderr",
     "output_type": "stream",
     "text": [
      "2025/09/20 12:54:34 INFO mlflow.utils.autologging_utils: Created MLflow autologging run with ID '62cf8df1d565460ca6b8908ddb294d8a', which will track hyperparameters, performance metrics, model artifacts, and lineage information for the current sklearn workflow\n",
      "2025/09/20 12:54:34 WARNING mlflow.utils.autologging_utils: MLflow autologging encountered a warning: \"/Users/omar/.pyenv/versions/insurance/lib/python3.11/site-packages/mlflow/types/utils.py:452: UserWarning: Hint: Inferred schema contains integer column(s). Integer columns in Python cannot represent missing values. If your input data contains missing values at inference time, it will be encoded as floats and will cause a schema enforcement error. The best way to avoid this problem is to infer the model schema based on a realistic data sample (training dataset) that includes missing values. Alternatively, you can declare integer columns as doubles (float64) whenever these columns may have missing values. See `Handling Integers With Missing Values <https://www.mlflow.org/docs/latest/models.html#handling-integers-with-missing-values>`_ for more details.\"\n",
      "2025/09/20 12:54:34 WARNING mlflow.utils.autologging_utils: MLflow autologging encountered a warning: \"/Users/omar/.pyenv/versions/insurance/lib/python3.11/site-packages/mlflow/types/utils.py:452: UserWarning: Hint: Inferred schema contains integer column(s). Integer columns in Python cannot represent missing values. If your input data contains missing values at inference time, it will be encoded as floats and will cause a schema enforcement error. The best way to avoid this problem is to infer the model schema based on a realistic data sample (training dataset) that includes missing values. Alternatively, you can declare integer columns as doubles (float64) whenever these columns may have missing values. See `Handling Integers With Missing Values <https://www.mlflow.org/docs/latest/models.html#handling-integers-with-missing-values>`_ for more details.\"\n"
     ]
    },
    {
     "name": "stdout",
     "output_type": "stream",
     "text": [
      "🏃 View run crawling-wren-804 at: http://127.0.0.1:5000/#/experiments/221207765889808369/runs/0b16f2982cc145d7be1819a96b41fe5d\n",
      "🧪 View experiment at: http://127.0.0.1:5000/#/experiments/221207765889808369\n"
     ]
    },
    {
     "name": "stderr",
     "output_type": "stream",
     "text": [
      "2025/09/20 12:54:36 INFO mlflow.utils.autologging_utils: Created MLflow autologging run with ID '4b0c11bddb1f434fa94fab75389b7267', which will track hyperparameters, performance metrics, model artifacts, and lineage information for the current sklearn workflow\n",
      "2025/09/20 12:54:36 WARNING mlflow.utils.autologging_utils: MLflow autologging encountered a warning: \"/Users/omar/.pyenv/versions/insurance/lib/python3.11/site-packages/mlflow/types/utils.py:452: UserWarning: Hint: Inferred schema contains integer column(s). Integer columns in Python cannot represent missing values. If your input data contains missing values at inference time, it will be encoded as floats and will cause a schema enforcement error. The best way to avoid this problem is to infer the model schema based on a realistic data sample (training dataset) that includes missing values. Alternatively, you can declare integer columns as doubles (float64) whenever these columns may have missing values. See `Handling Integers With Missing Values <https://www.mlflow.org/docs/latest/models.html#handling-integers-with-missing-values>`_ for more details.\"\n",
      "2025/09/20 12:54:36 WARNING mlflow.utils.autologging_utils: MLflow autologging encountered a warning: \"/Users/omar/.pyenv/versions/insurance/lib/python3.11/site-packages/mlflow/types/utils.py:452: UserWarning: Hint: Inferred schema contains integer column(s). Integer columns in Python cannot represent missing values. If your input data contains missing values at inference time, it will be encoded as floats and will cause a schema enforcement error. The best way to avoid this problem is to infer the model schema based on a realistic data sample (training dataset) that includes missing values. Alternatively, you can declare integer columns as doubles (float64) whenever these columns may have missing values. See `Handling Integers With Missing Values <https://www.mlflow.org/docs/latest/models.html#handling-integers-with-missing-values>`_ for more details.\"\n"
     ]
    },
    {
     "name": "stdout",
     "output_type": "stream",
     "text": [
      "🏃 View run big-penguin-351 at: http://127.0.0.1:5000/#/experiments/221207765889808369/runs/62cf8df1d565460ca6b8908ddb294d8a\n",
      "🧪 View experiment at: http://127.0.0.1:5000/#/experiments/221207765889808369\n"
     ]
    },
    {
     "name": "stderr",
     "output_type": "stream",
     "text": [
      "2025/09/20 12:54:37 INFO mlflow.utils.autologging_utils: Created MLflow autologging run with ID '1da746d6888b47dda285bafdb674f1c8', which will track hyperparameters, performance metrics, model artifacts, and lineage information for the current sklearn workflow\n",
      "2025/09/20 12:54:37 WARNING mlflow.utils.autologging_utils: MLflow autologging encountered a warning: \"/Users/omar/.pyenv/versions/insurance/lib/python3.11/site-packages/mlflow/types/utils.py:452: UserWarning: Hint: Inferred schema contains integer column(s). Integer columns in Python cannot represent missing values. If your input data contains missing values at inference time, it will be encoded as floats and will cause a schema enforcement error. The best way to avoid this problem is to infer the model schema based on a realistic data sample (training dataset) that includes missing values. Alternatively, you can declare integer columns as doubles (float64) whenever these columns may have missing values. See `Handling Integers With Missing Values <https://www.mlflow.org/docs/latest/models.html#handling-integers-with-missing-values>`_ for more details.\"\n",
      "2025/09/20 12:54:37 WARNING mlflow.utils.autologging_utils: MLflow autologging encountered a warning: \"/Users/omar/.pyenv/versions/insurance/lib/python3.11/site-packages/mlflow/types/utils.py:452: UserWarning: Hint: Inferred schema contains integer column(s). Integer columns in Python cannot represent missing values. If your input data contains missing values at inference time, it will be encoded as floats and will cause a schema enforcement error. The best way to avoid this problem is to infer the model schema based on a realistic data sample (training dataset) that includes missing values. Alternatively, you can declare integer columns as doubles (float64) whenever these columns may have missing values. See `Handling Integers With Missing Values <https://www.mlflow.org/docs/latest/models.html#handling-integers-with-missing-values>`_ for more details.\"\n"
     ]
    },
    {
     "name": "stdout",
     "output_type": "stream",
     "text": [
      "🏃 View run defiant-shoat-482 at: http://127.0.0.1:5000/#/experiments/221207765889808369/runs/4b0c11bddb1f434fa94fab75389b7267\n",
      "🧪 View experiment at: http://127.0.0.1:5000/#/experiments/221207765889808369\n"
     ]
    },
    {
     "name": "stderr",
     "output_type": "stream",
     "text": [
      "2025/09/20 12:54:38 INFO mlflow.utils.autologging_utils: Created MLflow autologging run with ID '7dc8e406b0fd4a3a8cbcc10b17ebb729', which will track hyperparameters, performance metrics, model artifacts, and lineage information for the current sklearn workflow\n",
      "2025/09/20 12:54:38 WARNING mlflow.utils.autologging_utils: MLflow autologging encountered a warning: \"/Users/omar/.pyenv/versions/insurance/lib/python3.11/site-packages/mlflow/types/utils.py:452: UserWarning: Hint: Inferred schema contains integer column(s). Integer columns in Python cannot represent missing values. If your input data contains missing values at inference time, it will be encoded as floats and will cause a schema enforcement error. The best way to avoid this problem is to infer the model schema based on a realistic data sample (training dataset) that includes missing values. Alternatively, you can declare integer columns as doubles (float64) whenever these columns may have missing values. See `Handling Integers With Missing Values <https://www.mlflow.org/docs/latest/models.html#handling-integers-with-missing-values>`_ for more details.\"\n",
      "2025/09/20 12:54:38 WARNING mlflow.utils.autologging_utils: MLflow autologging encountered a warning: \"/Users/omar/.pyenv/versions/insurance/lib/python3.11/site-packages/mlflow/types/utils.py:452: UserWarning: Hint: Inferred schema contains integer column(s). Integer columns in Python cannot represent missing values. If your input data contains missing values at inference time, it will be encoded as floats and will cause a schema enforcement error. The best way to avoid this problem is to infer the model schema based on a realistic data sample (training dataset) that includes missing values. Alternatively, you can declare integer columns as doubles (float64) whenever these columns may have missing values. See `Handling Integers With Missing Values <https://www.mlflow.org/docs/latest/models.html#handling-integers-with-missing-values>`_ for more details.\"\n"
     ]
    },
    {
     "name": "stdout",
     "output_type": "stream",
     "text": [
      "🏃 View run vaunted-duck-989 at: http://127.0.0.1:5000/#/experiments/221207765889808369/runs/1da746d6888b47dda285bafdb674f1c8\n",
      "🧪 View experiment at: http://127.0.0.1:5000/#/experiments/221207765889808369\n"
     ]
    },
    {
     "name": "stderr",
     "output_type": "stream",
     "text": [
      "2025/09/20 12:54:40 INFO mlflow.utils.autologging_utils: Created MLflow autologging run with ID 'e8b9194a88654cf2ba5a6da3cfc66501', which will track hyperparameters, performance metrics, model artifacts, and lineage information for the current sklearn workflow\n",
      "2025/09/20 12:54:40 WARNING mlflow.utils.autologging_utils: MLflow autologging encountered a warning: \"/Users/omar/.pyenv/versions/insurance/lib/python3.11/site-packages/mlflow/types/utils.py:452: UserWarning: Hint: Inferred schema contains integer column(s). Integer columns in Python cannot represent missing values. If your input data contains missing values at inference time, it will be encoded as floats and will cause a schema enforcement error. The best way to avoid this problem is to infer the model schema based on a realistic data sample (training dataset) that includes missing values. Alternatively, you can declare integer columns as doubles (float64) whenever these columns may have missing values. See `Handling Integers With Missing Values <https://www.mlflow.org/docs/latest/models.html#handling-integers-with-missing-values>`_ for more details.\"\n",
      "2025/09/20 12:54:40 WARNING mlflow.utils.autologging_utils: MLflow autologging encountered a warning: \"/Users/omar/.pyenv/versions/insurance/lib/python3.11/site-packages/mlflow/types/utils.py:452: UserWarning: Hint: Inferred schema contains integer column(s). Integer columns in Python cannot represent missing values. If your input data contains missing values at inference time, it will be encoded as floats and will cause a schema enforcement error. The best way to avoid this problem is to infer the model schema based on a realistic data sample (training dataset) that includes missing values. Alternatively, you can declare integer columns as doubles (float64) whenever these columns may have missing values. See `Handling Integers With Missing Values <https://www.mlflow.org/docs/latest/models.html#handling-integers-with-missing-values>`_ for more details.\"\n"
     ]
    },
    {
     "name": "stdout",
     "output_type": "stream",
     "text": [
      "🏃 View run marvelous-skink-462 at: http://127.0.0.1:5000/#/experiments/221207765889808369/runs/7dc8e406b0fd4a3a8cbcc10b17ebb729\n",
      "🧪 View experiment at: http://127.0.0.1:5000/#/experiments/221207765889808369\n"
     ]
    },
    {
     "name": "stderr",
     "output_type": "stream",
     "text": [
      "2025/09/20 12:54:41 INFO mlflow.utils.autologging_utils: Created MLflow autologging run with ID 'cd16eb63a73347a889f5479927d8c7d8', which will track hyperparameters, performance metrics, model artifacts, and lineage information for the current sklearn workflow\n",
      "2025/09/20 12:54:41 WARNING mlflow.utils.autologging_utils: MLflow autologging encountered a warning: \"/Users/omar/.pyenv/versions/insurance/lib/python3.11/site-packages/mlflow/types/utils.py:452: UserWarning: Hint: Inferred schema contains integer column(s). Integer columns in Python cannot represent missing values. If your input data contains missing values at inference time, it will be encoded as floats and will cause a schema enforcement error. The best way to avoid this problem is to infer the model schema based on a realistic data sample (training dataset) that includes missing values. Alternatively, you can declare integer columns as doubles (float64) whenever these columns may have missing values. See `Handling Integers With Missing Values <https://www.mlflow.org/docs/latest/models.html#handling-integers-with-missing-values>`_ for more details.\"\n",
      "2025/09/20 12:54:41 WARNING mlflow.utils.autologging_utils: MLflow autologging encountered a warning: \"/Users/omar/.pyenv/versions/insurance/lib/python3.11/site-packages/mlflow/types/utils.py:452: UserWarning: Hint: Inferred schema contains integer column(s). Integer columns in Python cannot represent missing values. If your input data contains missing values at inference time, it will be encoded as floats and will cause a schema enforcement error. The best way to avoid this problem is to infer the model schema based on a realistic data sample (training dataset) that includes missing values. Alternatively, you can declare integer columns as doubles (float64) whenever these columns may have missing values. See `Handling Integers With Missing Values <https://www.mlflow.org/docs/latest/models.html#handling-integers-with-missing-values>`_ for more details.\"\n"
     ]
    },
    {
     "name": "stdout",
     "output_type": "stream",
     "text": [
      "🏃 View run grandiose-pig-522 at: http://127.0.0.1:5000/#/experiments/221207765889808369/runs/e8b9194a88654cf2ba5a6da3cfc66501\n",
      "🧪 View experiment at: http://127.0.0.1:5000/#/experiments/221207765889808369\n"
     ]
    },
    {
     "name": "stderr",
     "output_type": "stream",
     "text": [
      "2025/09/20 12:54:43 INFO mlflow.utils.autologging_utils: Created MLflow autologging run with ID 'f88140e40efc437c901d5ae10630e9c2', which will track hyperparameters, performance metrics, model artifacts, and lineage information for the current sklearn workflow\n",
      "2025/09/20 12:54:43 WARNING mlflow.utils.autologging_utils: MLflow autologging encountered a warning: \"/Users/omar/.pyenv/versions/insurance/lib/python3.11/site-packages/mlflow/types/utils.py:452: UserWarning: Hint: Inferred schema contains integer column(s). Integer columns in Python cannot represent missing values. If your input data contains missing values at inference time, it will be encoded as floats and will cause a schema enforcement error. The best way to avoid this problem is to infer the model schema based on a realistic data sample (training dataset) that includes missing values. Alternatively, you can declare integer columns as doubles (float64) whenever these columns may have missing values. See `Handling Integers With Missing Values <https://www.mlflow.org/docs/latest/models.html#handling-integers-with-missing-values>`_ for more details.\"\n",
      "2025/09/20 12:54:43 WARNING mlflow.utils.autologging_utils: MLflow autologging encountered a warning: \"/Users/omar/.pyenv/versions/insurance/lib/python3.11/site-packages/mlflow/types/utils.py:452: UserWarning: Hint: Inferred schema contains integer column(s). Integer columns in Python cannot represent missing values. If your input data contains missing values at inference time, it will be encoded as floats and will cause a schema enforcement error. The best way to avoid this problem is to infer the model schema based on a realistic data sample (training dataset) that includes missing values. Alternatively, you can declare integer columns as doubles (float64) whenever these columns may have missing values. See `Handling Integers With Missing Values <https://www.mlflow.org/docs/latest/models.html#handling-integers-with-missing-values>`_ for more details.\"\n"
     ]
    },
    {
     "name": "stdout",
     "output_type": "stream",
     "text": [
      "🏃 View run suave-shrike-625 at: http://127.0.0.1:5000/#/experiments/221207765889808369/runs/cd16eb63a73347a889f5479927d8c7d8\n",
      "🧪 View experiment at: http://127.0.0.1:5000/#/experiments/221207765889808369\n"
     ]
    },
    {
     "name": "stderr",
     "output_type": "stream",
     "text": [
      "2025/09/20 12:54:44 INFO mlflow.utils.autologging_utils: Created MLflow autologging run with ID '4b5c0d5c3edf42e39ab32a2f1ce860e5', which will track hyperparameters, performance metrics, model artifacts, and lineage information for the current sklearn workflow\n",
      "2025/09/20 12:54:44 WARNING mlflow.utils.autologging_utils: MLflow autologging encountered a warning: \"/Users/omar/.pyenv/versions/insurance/lib/python3.11/site-packages/mlflow/types/utils.py:452: UserWarning: Hint: Inferred schema contains integer column(s). Integer columns in Python cannot represent missing values. If your input data contains missing values at inference time, it will be encoded as floats and will cause a schema enforcement error. The best way to avoid this problem is to infer the model schema based on a realistic data sample (training dataset) that includes missing values. Alternatively, you can declare integer columns as doubles (float64) whenever these columns may have missing values. See `Handling Integers With Missing Values <https://www.mlflow.org/docs/latest/models.html#handling-integers-with-missing-values>`_ for more details.\"\n",
      "2025/09/20 12:54:44 WARNING mlflow.utils.autologging_utils: MLflow autologging encountered a warning: \"/Users/omar/.pyenv/versions/insurance/lib/python3.11/site-packages/mlflow/types/utils.py:452: UserWarning: Hint: Inferred schema contains integer column(s). Integer columns in Python cannot represent missing values. If your input data contains missing values at inference time, it will be encoded as floats and will cause a schema enforcement error. The best way to avoid this problem is to infer the model schema based on a realistic data sample (training dataset) that includes missing values. Alternatively, you can declare integer columns as doubles (float64) whenever these columns may have missing values. See `Handling Integers With Missing Values <https://www.mlflow.org/docs/latest/models.html#handling-integers-with-missing-values>`_ for more details.\"\n"
     ]
    },
    {
     "name": "stdout",
     "output_type": "stream",
     "text": [
      "🏃 View run caring-fish-599 at: http://127.0.0.1:5000/#/experiments/221207765889808369/runs/f88140e40efc437c901d5ae10630e9c2\n",
      "🧪 View experiment at: http://127.0.0.1:5000/#/experiments/221207765889808369\n",
      "🏃 View run amazing-bass-751 at: http://127.0.0.1:5000/#/experiments/221207765889808369/runs/4b5c0d5c3edf42e39ab32a2f1ce860e5\n",
      "🧪 View experiment at: http://127.0.0.1:5000/#/experiments/221207765889808369\n"
     ]
    },
    {
     "data": {
      "image/png": "[encoded data removed]",
      "text/plain": [
       "<Figure size 640x480 with 1 Axes>"
      ]
     },
     "metadata": {},
     "output_type": "display_data"
    }
   ],
   "source": [
    "learning_curve_display(lr_hist, X, y_chargeslog10)"
   ]
  },
  {
   "cell_type": "markdown",
   "metadata": {},
   "source": [
    "## Support Vector Machine algorithms\n",
    "\n",
    "- LinearSVR: linear support vector regression\n",
    "- NuSVR: nu-support vector regression\n",
    "- SVR: epsilon-support vector regression"
   ]
  },
  {
   "cell_type": "code",
   "execution_count": null,
   "metadata": {},
   "outputs": [],
   "source": [
    "# The main differences between LinearSVR and SVR lie in the loss function used by default,\n",
    "# and in the handling of intercept regularization between those two implementations."
   ]
  },
  {
   "cell_type": "code",
   "execution_count": 78,
   "metadata": {},
   "outputs": [
    {
     "name": "stdout",
     "output_type": "stream",
     "text": [
      "[LibLinear].\n",
      "optimization finished, #iter = 10\n",
      "\n",
      "WARNING: reaching max number of iterations\n",
      "Using -s 11 may be faster\n",
      "\n",
      "Objective value = -7327845.388160\n",
      "nSV = 1070\n"
     ]
    },
    {
     "name": "stderr",
     "output_type": "stream",
     "text": [
      "/Users/omar/.pyenv/versions/insurance/lib/python3.11/site-packages/sklearn/utils/validation.py:1406: DataConversionWarning: A column-vector y was passed when a 1d array was expected. Please change the shape of y to (n_samples, ), for example using ravel().\n",
      "  y = column_or_1d(y, warn=True)\n",
      "/Users/omar/.pyenv/versions/insurance/lib/python3.11/site-packages/sklearn/svm/_base.py:1250: ConvergenceWarning: Liblinear failed to converge, increase the number of iterations.\n",
      "  warnings.warn(\n"
     ]
    },
    {
     "data": {
      "text/plain": [
       "-0.051424389815026395"
      ]
     },
     "execution_count": 78,
     "metadata": {},
     "output_type": "execute_result"
    }
   ],
   "source": [
    "lsvr_model = LinearSVR(\n",
    "    epsilon=0,  # Epsilon insensitive loss function, depends on the scale of y\n",
    "    tol=1e-4,  # Tolerance for stopping criteria\n",
    "    C=1.0,  # Regularization parameter, x > 0\n",
    "    loss=\"epsilon_insensitive\",  # {epsilon_insensitive, squared_epsilon_insensitive}\n",
    "    fit_intercept=True,\n",
    "    # intercept_scaling,\n",
    "    # dual,\n",
    "    verbose=1,\n",
    "    random_state=seed,\n",
    "    max_iter=10,\n",
    ")\n",
    "\n",
    "lsvr_hist = lsvr_model.fit(X_train, y_train)\n",
    "lsvr_hist.score(X_test, y_test)"
   ]
  },
  {
   "cell_type": "code",
   "execution_count": 79,
   "metadata": {},
   "outputs": [
    {
     "name": "stdout",
     "output_type": "stream",
     "text": [
      "[LibLinear].\n",
      "optimization finished, #iter = 10\n",
      "\n",
      "WARNING: reaching max number of iterations\n",
      "Using -s 11 may be faster\n",
      "\n",
      "Objective value = -0.092520\n",
      "nSV = 1070\n"
     ]
    },
    {
     "name": "stderr",
     "output_type": "stream",
     "text": [
      "/Users/omar/.pyenv/versions/insurance/lib/python3.11/site-packages/sklearn/utils/validation.py:1406: DataConversionWarning: A column-vector y was passed when a 1d array was expected. Please change the shape of y to (n_samples, ), for example using ravel().\n",
      "  y = column_or_1d(y, warn=True)\n",
      "/Users/omar/.pyenv/versions/insurance/lib/python3.11/site-packages/sklearn/svm/_base.py:1250: ConvergenceWarning: Liblinear failed to converge, increase the number of iterations.\n",
      "  warnings.warn(\n"
     ]
    },
    {
     "data": {
      "text/plain": [
       "0.9991076242793229"
      ]
     },
     "execution_count": 79,
     "metadata": {},
     "output_type": "execute_result"
    }
   ],
   "source": [
    "lsvr_model = LinearSVR(\n",
    "    epsilon=0,  # Epsilon insensitive loss function, depends on the scale of y\n",
    "    tol=1e-4,  # Tolerance for stopping criteria\n",
    "    C=1.0,  # Regularization parameter, x > 0\n",
    "    loss=\"epsilon_insensitive\",  # {epsilon_insensitive, squared_epsilon_insensitive}\n",
    "    fit_intercept=True,\n",
    "    # intercept_scaling,\n",
    "    # dual,\n",
    "    verbose=1,\n",
    "    random_state=seed,\n",
    "    max_iter=10,\n",
    ")\n",
    "\n",
    "lsvr_hist = lsvr_model.fit(X_train, y_trainlog)\n",
    "lsvr_hist.score(X_test, y_test_log)"
   ]
  },
  {
   "cell_type": "code",
   "execution_count": 81,
   "metadata": {},
   "outputs": [
    {
     "name": "stdout",
     "output_type": "stream",
     "text": [
      "[LibSVM]*\n",
      "optimization finished, #iter = 620\n",
      "epsilon = 6216.283288\n",
      "obj = -7599583.793987, rho = -11172.092029\n",
      "nSV = 536, nBSV = 534\n"
     ]
    },
    {
     "name": "stderr",
     "output_type": "stream",
     "text": [
      "/Users/omar/.pyenv/versions/insurance/lib/python3.11/site-packages/sklearn/utils/validation.py:1406: DataConversionWarning: A column-vector y was passed when a 1d array was expected. Please change the shape of y to (n_samples, ), for example using ravel().\n",
      "  y = column_or_1d(y, warn=True)\n"
     ]
    },
    {
     "data": {
      "text/plain": [
       "-0.009703164202401693"
      ]
     },
     "execution_count": 81,
     "metadata": {},
     "output_type": "execute_result"
    }
   ],
   "source": [
    "nsvr = NuSVR(verbose=True)\n",
    "nsvr_hist = nsvr.fit(X_train, y_train)\n",
    "nsvr.score(X_test, y_test)"
   ]
  },
  {
   "cell_type": "code",
   "execution_count": 82,
   "metadata": {},
   "outputs": [
    {
     "name": "stdout",
     "output_type": "stream",
     "text": [
      "[LibSVM].\n",
      "Warning: using -h 0 may be faster\n",
      ".\n",
      "Warning: using -h 0 may be faster\n",
      "*\n",
      "optimization finished, #iter = 2764\n",
      "epsilon = 0.005369\n",
      "obj = -105.737415, rho = -3.841387\n",
      "nSV = 562, nBSV = 509\n"
     ]
    },
    {
     "name": "stderr",
     "output_type": "stream",
     "text": [
      "/Users/omar/.pyenv/versions/insurance/lib/python3.11/site-packages/sklearn/utils/validation.py:1406: DataConversionWarning: A column-vector y was passed when a 1d array was expected. Please change the shape of y to (n_samples, ), for example using ravel().\n",
      "  y = column_or_1d(y, warn=True)\n"
     ]
    },
    {
     "data": {
      "text/plain": [
       "0.9855637615880748"
      ]
     },
     "execution_count": 82,
     "metadata": {},
     "output_type": "execute_result"
    }
   ],
   "source": [
    "nsvr = NuSVR(verbose=True)\n",
    "nsvr_hist = nsvr.fit(X_train, y_trainlog)\n",
    "nsvr.score(X_test, y_test_log)"
   ]
  },
  {
   "cell_type": "markdown",
   "metadata": {},
   "source": [
    "## Decision Tree Regressors"
   ]
  },
  {
   "cell_type": "code",
   "execution_count": 71,
   "metadata": {},
   "outputs": [],
   "source": [
    "criterions = [\"squared_error\", \"friedman_mse\", \"absolute_error\", \"poisson\"]"
   ]
  },
  {
   "cell_type": "code",
   "execution_count": 72,
   "metadata": {},
   "outputs": [
    {
     "name": "stdout",
     "output_type": "stream",
     "text": [
      "DecisionTreeRegressor(random_state=23)\n",
      "Score: 0.6738662962654722.\n",
      "DecisionTreeRegressor(criterion='friedman_mse', random_state=23)\n",
      "Score: 0.6857007856735147.\n",
      "DecisionTreeRegressor(criterion='absolute_error', random_state=23)\n",
      "Score: 0.7175422983433035.\n",
      "DecisionTreeRegressor(criterion='poisson', random_state=23)\n",
      "Score: 0.7045361585197863.\n"
     ]
    }
   ],
   "source": [
    "for crt in criterions:\n",
    "    dt_model = DecisionTreeRegressor(criterion=crt, splitter=\"best\", random_state=seed)\n",
    "\n",
    "    dt_hist = dt_model.fit(X_train, y_train)\n",
    "    print(dt_hist)\n",
    "\n",
    "    score = dt_hist.score(X_test, y_test)\n",
    "    print(f\"Score: {score}.\")"
   ]
  },
  {
   "cell_type": "code",
   "execution_count": 77,
   "metadata": {},
   "outputs": [
    {
     "data": {
      "image/png": "[encoded data removed]",
      "text/plain": [
       "<Figure size 640x480 with 1 Axes>"
      ]
     },
     "metadata": {},
     "output_type": "display_data"
    }
   ],
   "source": [
    "learning_curve_display(dt_model, X, y)"
   ]
  },
  {
   "cell_type": "markdown",
   "metadata": {},
   "source": [
    "## Neural Network"
   ]
  },
  {
   "cell_type": "code",
   "execution_count": 37,
   "metadata": {},
   "outputs": [
    {
     "name": "stderr",
     "output_type": "stream",
     "text": [
      "2025/09/20 12:54:46 WARNING mlflow.utils.autologging_utils: MLflow autologging encountered a warning: \"/Users/omar/.pyenv/versions/insurance/lib/python3.11/site-packages/mlflow/types/utils.py:452: UserWarning: Hint: Inferred schema contains integer column(s). Integer columns in Python cannot represent missing values. If your input data contains missing values at inference time, it will be encoded as floats and will cause a schema enforcement error. The best way to avoid this problem is to infer the model schema based on a realistic data sample (training dataset) that includes missing values. Alternatively, you can declare integer columns as doubles (float64) whenever these columns may have missing values. See `Handling Integers With Missing Values <https://www.mlflow.org/docs/latest/models.html#handling-integers-with-missing-values>`_ for more details.\"\n",
      "/Users/omar/.pyenv/versions/insurance/lib/python3.11/site-packages/sklearn/neural_network/_multilayer_perceptron.py:1771: DataConversionWarning: A column-vector y was passed when a 1d array was expected. Please change the shape of y to (n_samples, ), for example using ravel().\n",
      "  y = column_or_1d(y, warn=True)\n"
     ]
    },
    {
     "name": "stdout",
     "output_type": "stream",
     "text": [
      "Iteration 1, loss = 20.44715617\n",
      "Validation score: -16.499477\n",
      "Iteration 2, loss = 1.11474757\n",
      "Validation score: -22.279265\n",
      "Iteration 3, loss = 0.50001721\n",
      "Validation score: -7.776730\n",
      "Iteration 4, loss = 0.38819618\n",
      "Validation score: -5.861857\n",
      "Iteration 5, loss = 0.25288111\n",
      "Validation score: -3.056773\n",
      "Iteration 6, loss = 0.22318770\n",
      "Validation score: -2.998868\n",
      "Iteration 7, loss = 0.21201407\n",
      "Validation score: -2.870634\n",
      "Iteration 8, loss = 0.20637764\n",
      "Validation score: -2.758856\n",
      "Iteration 9, loss = 0.20071210\n",
      "Validation score: -2.932271\n",
      "Iteration 10, loss = 0.19372648\n",
      "Validation score: -2.465154\n",
      "Iteration 11, loss = 0.19809976\n",
      "Validation score: -2.694650\n",
      "Iteration 12, loss = 0.17893923\n",
      "Validation score: -2.187819\n",
      "Iteration 13, loss = 0.17407258\n",
      "Validation score: -2.049085\n",
      "Iteration 14, loss = 0.16615101\n",
      "Validation score: -1.951120\n",
      "Iteration 15, loss = 0.15387429\n",
      "Validation score: -1.733054\n",
      "Iteration 16, loss = 0.14667461\n",
      "Validation score: -1.640692\n",
      "Iteration 17, loss = 0.14794822\n",
      "Validation score: -1.479751\n",
      "Iteration 18, loss = 0.13864067\n",
      "Validation score: -1.582924\n",
      "Iteration 19, loss = 0.12774802\n",
      "Validation score: -1.314274\n",
      "Iteration 20, loss = 0.12031217\n",
      "Validation score: -1.190988\n",
      "Iteration 21, loss = 0.11745295\n",
      "Validation score: -1.308810\n",
      "Iteration 22, loss = 0.11165051\n",
      "Validation score: -0.975511\n",
      "Iteration 23, loss = 0.10649487\n",
      "Validation score: -0.914530\n",
      "Iteration 24, loss = 0.10075062\n",
      "Validation score: -0.903836\n",
      "Iteration 25, loss = 0.11147005\n",
      "Validation score: -1.415567\n",
      "Iteration 26, loss = 0.10928475\n",
      "Validation score: -0.740243\n",
      "Iteration 27, loss = 0.09074911\n",
      "Validation score: -0.638483\n",
      "Iteration 28, loss = 0.08866095\n",
      "Validation score: -0.605138\n",
      "Iteration 29, loss = 0.08122197\n",
      "Validation score: -0.647998\n",
      "Iteration 30, loss = 0.08193570\n",
      "Validation score: -0.526518\n",
      "Iteration 31, loss = 0.07871525\n",
      "Validation score: -0.335277\n",
      "Iteration 32, loss = 0.07353701\n",
      "Validation score: -0.407229\n",
      "Iteration 33, loss = 0.06426212\n",
      "Validation score: -0.316214\n",
      "Iteration 34, loss = 0.06159319\n",
      "Validation score: -0.226000\n",
      "Iteration 35, loss = 0.05540517\n",
      "Validation score: -0.032988\n",
      "Iteration 36, loss = 0.04963103\n",
      "Validation score: 0.040410\n",
      "Iteration 37, loss = 0.04408294\n",
      "Validation score: 0.114261\n",
      "Iteration 38, loss = 0.03923144\n",
      "Validation score: -0.072964\n",
      "Iteration 39, loss = 0.04386333\n",
      "Validation score: -0.119326\n",
      "Iteration 40, loss = 0.03640393\n",
      "Validation score: 0.335118\n",
      "Iteration 41, loss = 0.03315691\n",
      "Validation score: -0.089041\n",
      "Iteration 42, loss = 0.03430046\n",
      "Validation score: 0.330303\n",
      "Iteration 43, loss = 0.03032598\n",
      "Validation score: 0.466519\n",
      "Iteration 44, loss = 0.02325044\n",
      "Validation score: 0.524608\n",
      "Iteration 45, loss = 0.02444060\n",
      "Validation score: 0.296341\n",
      "Iteration 46, loss = 0.02587162\n",
      "Validation score: 0.521381\n",
      "Iteration 47, loss = 0.01881009\n",
      "Validation score: 0.584506\n",
      "Iteration 48, loss = 0.02783043\n",
      "Validation score: 0.476542\n",
      "Iteration 49, loss = 0.02078208\n",
      "Validation score: 0.561370\n",
      "Iteration 50, loss = 0.01734825\n",
      "Validation score: 0.512009\n",
      "Iteration 51, loss = 0.01683813\n",
      "Validation score: 0.549453\n",
      "Iteration 52, loss = 0.01611280\n",
      "Validation score: 0.458161\n",
      "Iteration 53, loss = 0.02315070\n",
      "Validation score: 0.294455\n",
      "Iteration 54, loss = 0.02061433\n",
      "Validation score: 0.643677\n",
      "Iteration 55, loss = 0.01479860\n",
      "Validation score: 0.639372\n",
      "Iteration 56, loss = 0.01572689\n",
      "Validation score: 0.669861\n",
      "Iteration 57, loss = 0.01402655\n",
      "Validation score: 0.634471\n",
      "Iteration 58, loss = 0.01392576\n",
      "Validation score: 0.690192\n",
      "Iteration 59, loss = 0.01386182\n",
      "Validation score: 0.651651\n",
      "Iteration 60, loss = 0.01408861\n",
      "Validation score: 0.592681\n",
      "Iteration 61, loss = 0.01736199\n",
      "Validation score: 0.501533\n",
      "Iteration 62, loss = 0.02369615\n",
      "Validation score: 0.466363\n",
      "Iteration 63, loss = 0.02102722\n",
      "Validation score: 0.372003\n",
      "Iteration 64, loss = 0.01875763\n",
      "Validation score: 0.689053\n",
      "Iteration 65, loss = 0.01563325\n",
      "Validation score: 0.658350\n",
      "Iteration 66, loss = 0.01631684\n",
      "Validation score: 0.683040\n",
      "Iteration 67, loss = 0.01411030\n",
      "Validation score: 0.682924\n",
      "Iteration 68, loss = 0.01324686\n",
      "Validation score: 0.689359\n",
      "Iteration 69, loss = 0.01352425\n",
      "Validation score: 0.701517\n",
      "Iteration 70, loss = 0.01397168\n",
      "Validation score: 0.668083\n",
      "Iteration 71, loss = 0.01562678\n",
      "Validation score: 0.687290\n",
      "Iteration 72, loss = 0.01396652\n",
      "Validation score: 0.704559\n",
      "Iteration 73, loss = 0.01875626\n",
      "Validation score: 0.454818\n",
      "Iteration 74, loss = 0.02188435\n",
      "Validation score: 0.499293\n",
      "Iteration 75, loss = 0.01953238\n",
      "Validation score: 0.620105\n",
      "Iteration 76, loss = 0.01396574\n",
      "Validation score: 0.632648\n",
      "Iteration 77, loss = 0.01568720\n",
      "Validation score: 0.618501\n",
      "Iteration 78, loss = 0.01884116\n",
      "Validation score: 0.625771\n",
      "Iteration 79, loss = 0.01863678\n",
      "Validation score: 0.576022\n",
      "Iteration 80, loss = 0.01722749\n",
      "Validation score: 0.680144\n",
      "Iteration 81, loss = 0.01485684\n",
      "Validation score: 0.649478\n",
      "Iteration 82, loss = 0.01601265\n",
      "Validation score: 0.433052\n"
     ]
    },
    {
     "name": "stderr",
     "output_type": "stream",
     "text": [
      "2025/09/20 12:54:57 WARNING mlflow.utils.autologging_utils: MLflow autologging encountered a warning: \"/Users/omar/.pyenv/versions/insurance/lib/python3.11/site-packages/mlflow/types/utils.py:452: UserWarning: Hint: Inferred schema contains integer column(s). Integer columns in Python cannot represent missing values. If your input data contains missing values at inference time, it will be encoded as floats and will cause a schema enforcement error. The best way to avoid this problem is to infer the model schema based on a realistic data sample (training dataset) that includes missing values. Alternatively, you can declare integer columns as doubles (float64) whenever these columns may have missing values. See `Handling Integers With Missing Values <https://www.mlflow.org/docs/latest/models.html#handling-integers-with-missing-values>`_ for more details.\"\n"
     ]
    },
    {
     "name": "stdout",
     "output_type": "stream",
     "text": [
      "Iteration 83, loss = 0.01665602\n",
      "Validation score: 0.674291\n",
      "Validation score did not improve more than tol=0.000100 for 10 consecutive epochs. Stopping.\n"
     ]
    },
    {
     "name": "stderr",
     "output_type": "stream",
     "text": [
      "2025/09/20 12:54:58 WARNING mlflow.utils.autologging_utils: MLflow autologging encountered a warning: \"/Users/omar/.pyenv/versions/insurance/lib/python3.11/site-packages/mlflow/types/utils.py:452: UserWarning: Hint: Inferred schema contains integer column(s). Integer columns in Python cannot represent missing values. If your input data contains missing values at inference time, it will be encoded as floats and will cause a schema enforcement error. The best way to avoid this problem is to infer the model schema based on a realistic data sample (training dataset) that includes missing values. Alternatively, you can declare integer columns as doubles (float64) whenever these columns may have missing values. See `Handling Integers With Missing Values <https://www.mlflow.org/docs/latest/models.html#handling-integers-with-missing-values>`_ for more details.\"\n",
      "2025/09/20 12:54:58 WARNING mlflow.utils.autologging_utils: MLflow autologging encountered a warning: \"/Users/omar/.pyenv/versions/insurance/lib/python3.11/site-packages/mlflow/types/utils.py:452: UserWarning: Hint: Inferred schema contains integer column(s). Integer columns in Python cannot represent missing values. If your input data contains missing values at inference time, it will be encoded as floats and will cause a schema enforcement error. The best way to avoid this problem is to infer the model schema based on a realistic data sample (training dataset) that includes missing values. Alternatively, you can declare integer columns as doubles (float64) whenever these columns may have missing values. See `Handling Integers With Missing Values <https://www.mlflow.org/docs/latest/models.html#handling-integers-with-missing-values>`_ for more details.\"\n",
      "/Users/omar/.pyenv/versions/insurance/lib/python3.11/site-packages/sklearn/neural_network/_multilayer_perceptron.py:1771: DataConversionWarning: A column-vector y was passed when a 1d array was expected. Please change the shape of y to (n_samples, ), for example using ravel().\n",
      "  y = column_or_1d(y, warn=True)\n"
     ]
    },
    {
     "name": "stdout",
     "output_type": "stream",
     "text": [
      "MAE: 0.11818946726314539\n",
      "R2: 0.8345442333447192\n",
      "🏃 View run neural_networks_0 at: http://127.0.0.1:5000/#/experiments/221207765889808369/runs/19a2e375c4f24170a2c912a9b731fa13\n",
      "🧪 View experiment at: http://127.0.0.1:5000/#/experiments/221207765889808369\n",
      "Iteration 1, loss = 136.10828059\n",
      "Validation score: -1.464631\n",
      "Iteration 2, loss = 0.16716935\n",
      "Validation score: -1.606786\n",
      "Iteration 3, loss = 0.13012317\n",
      "Validation score: -1.709418\n",
      "Iteration 4, loss = 0.09750021\n",
      "Validation score: -2.395635\n",
      "Iteration 5, loss = 0.07067930\n",
      "Validation score: 0.353569\n",
      "Iteration 6, loss = 0.05514901\n",
      "Validation score: -0.545733\n",
      "Iteration 7, loss = 0.04241109\n",
      "Validation score: -0.568667\n",
      "Iteration 8, loss = 0.05760312\n",
      "Validation score: 0.115069\n",
      "Iteration 9, loss = 0.04239133\n",
      "Validation score: 0.519782\n",
      "Iteration 10, loss = 0.04295344\n",
      "Validation score: 0.027191\n",
      "Iteration 11, loss = 0.04434522\n",
      "Validation score: 0.587827\n",
      "Iteration 12, loss = 0.03300549\n",
      "Validation score: 0.386732\n",
      "Iteration 13, loss = 0.03715745\n",
      "Validation score: 0.052077\n",
      "Iteration 14, loss = 0.03698923\n",
      "Validation score: -0.122998\n",
      "Iteration 15, loss = 0.03325210\n",
      "Validation score: -0.320694\n",
      "Iteration 16, loss = 0.03756943\n",
      "Validation score: 0.473616\n",
      "Iteration 17, loss = 0.03757079\n",
      "Validation score: 0.241546\n",
      "Iteration 18, loss = 0.04832865\n",
      "Validation score: 0.627107\n",
      "Iteration 19, loss = 0.03674933\n",
      "Validation score: 0.602794\n",
      "Iteration 20, loss = 0.02944100\n",
      "Validation score: 0.597084\n",
      "Iteration 21, loss = 0.03066192\n",
      "Validation score: 0.584129\n",
      "Iteration 22, loss = 0.02990786\n",
      "Validation score: 0.585776\n",
      "Iteration 23, loss = 0.03330210\n",
      "Validation score: 0.534303\n",
      "Iteration 24, loss = 0.02977810\n",
      "Validation score: 0.552039\n",
      "Iteration 25, loss = 0.03393829\n",
      "Validation score: 0.354190\n",
      "Iteration 26, loss = 0.02996843\n",
      "Validation score: 0.595472\n",
      "Iteration 27, loss = 0.02644995\n",
      "Validation score: 0.480478\n",
      "Iteration 28, loss = 0.03882684\n",
      "Validation score: -0.217290\n"
     ]
    },
    {
     "name": "stderr",
     "output_type": "stream",
     "text": [
      "2025/09/20 12:55:31 WARNING mlflow.utils.autologging_utils: MLflow autologging encountered a warning: \"/Users/omar/.pyenv/versions/insurance/lib/python3.11/site-packages/mlflow/types/utils.py:452: UserWarning: Hint: Inferred schema contains integer column(s). Integer columns in Python cannot represent missing values. If your input data contains missing values at inference time, it will be encoded as floats and will cause a schema enforcement error. The best way to avoid this problem is to infer the model schema based on a realistic data sample (training dataset) that includes missing values. Alternatively, you can declare integer columns as doubles (float64) whenever these columns may have missing values. See `Handling Integers With Missing Values <https://www.mlflow.org/docs/latest/models.html#handling-integers-with-missing-values>`_ for more details.\"\n"
     ]
    },
    {
     "name": "stdout",
     "output_type": "stream",
     "text": [
      "Iteration 29, loss = 0.02655375\n",
      "Validation score: 0.166907\n",
      "Validation score did not improve more than tol=0.000100 for 10 consecutive epochs. Stopping.\n"
     ]
    },
    {
     "name": "stderr",
     "output_type": "stream",
     "text": [
      "2025/09/20 12:55:33 WARNING mlflow.utils.autologging_utils: MLflow autologging encountered a warning: \"/Users/omar/.pyenv/versions/insurance/lib/python3.11/site-packages/mlflow/types/utils.py:452: UserWarning: Hint: Inferred schema contains integer column(s). Integer columns in Python cannot represent missing values. If your input data contains missing values at inference time, it will be encoded as floats and will cause a schema enforcement error. The best way to avoid this problem is to infer the model schema based on a realistic data sample (training dataset) that includes missing values. Alternatively, you can declare integer columns as doubles (float64) whenever these columns may have missing values. See `Handling Integers With Missing Values <https://www.mlflow.org/docs/latest/models.html#handling-integers-with-missing-values>`_ for more details.\"\n",
      "2025/09/20 12:55:33 WARNING mlflow.utils.autologging_utils: MLflow autologging encountered a warning: \"/Users/omar/.pyenv/versions/insurance/lib/python3.11/site-packages/mlflow/types/utils.py:452: UserWarning: Hint: Inferred schema contains integer column(s). Integer columns in Python cannot represent missing values. If your input data contains missing values at inference time, it will be encoded as floats and will cause a schema enforcement error. The best way to avoid this problem is to infer the model schema based on a realistic data sample (training dataset) that includes missing values. Alternatively, you can declare integer columns as doubles (float64) whenever these columns may have missing values. See `Handling Integers With Missing Values <https://www.mlflow.org/docs/latest/models.html#handling-integers-with-missing-values>`_ for more details.\"\n",
      "/Users/omar/.pyenv/versions/insurance/lib/python3.11/site-packages/sklearn/neural_network/_multilayer_perceptron.py:1771: DataConversionWarning: A column-vector y was passed when a 1d array was expected. Please change the shape of y to (n_samples, ), for example using ravel().\n",
      "  y = column_or_1d(y, warn=True)\n"
     ]
    },
    {
     "name": "stdout",
     "output_type": "stream",
     "text": [
      "MAE: 0.11113608462228695\n",
      "R2: 0.8074683150557005\n",
      "🏃 View run neural_networks_1 at: http://127.0.0.1:5000/#/experiments/221207765889808369/runs/68975c6c5f9c42a5ba5d2c0b183a8d2b\n",
      "🧪 View experiment at: http://127.0.0.1:5000/#/experiments/221207765889808369\n",
      "Iteration 1, loss = 497.04720128\n",
      "Validation score: -4.942005\n",
      "Iteration 2, loss = 0.17547267\n",
      "Validation score: -1.397950\n",
      "Iteration 3, loss = 0.16472576\n",
      "Validation score: -3.482694\n",
      "Iteration 4, loss = 0.12842710\n",
      "Validation score: -6.391961\n",
      "Iteration 5, loss = 0.16927078\n",
      "Validation score: -0.718522\n",
      "Iteration 6, loss = 0.09369436\n",
      "Validation score: -0.362945\n",
      "Iteration 7, loss = 0.06548005\n",
      "Validation score: -3.630350\n",
      "Iteration 8, loss = 0.07194300\n",
      "Validation score: 0.206808\n",
      "Iteration 9, loss = 0.04617624\n",
      "Validation score: -3.121913\n",
      "Iteration 10, loss = 0.06012008\n",
      "Validation score: 0.489067\n",
      "Iteration 11, loss = 0.02912828\n",
      "Validation score: 0.436908\n",
      "Iteration 12, loss = 0.03537014\n",
      "Validation score: -0.239074\n",
      "Iteration 13, loss = 0.05470853\n",
      "Validation score: 0.256529\n",
      "Iteration 14, loss = 0.02648094\n",
      "Validation score: 0.272871\n",
      "Iteration 15, loss = 0.02813295\n",
      "Validation score: -2.347746\n",
      "Iteration 16, loss = 0.04834875\n",
      "Validation score: -0.027350\n",
      "Iteration 17, loss = 0.02992936\n",
      "Validation score: 0.312417\n",
      "Iteration 18, loss = 0.02369419\n",
      "Validation score: 0.665431\n",
      "Iteration 19, loss = 0.02593372\n",
      "Validation score: -0.004415\n",
      "Iteration 20, loss = 0.02366181\n",
      "Validation score: 0.340987\n",
      "Iteration 21, loss = 0.03523631\n",
      "Validation score: 0.441848\n",
      "Iteration 22, loss = 0.02355201\n",
      "Validation score: 0.558455\n",
      "Iteration 23, loss = 0.02462920\n",
      "Validation score: 0.649166\n",
      "Iteration 24, loss = 0.02170804\n",
      "Validation score: 0.436584\n",
      "Iteration 25, loss = 0.03819566\n",
      "Validation score: 0.111624\n",
      "Iteration 26, loss = 0.03109052\n",
      "Validation score: -0.231849\n",
      "Iteration 27, loss = 0.03026008\n",
      "Validation score: 0.619882\n",
      "Iteration 28, loss = 0.01853781\n",
      "Validation score: -1.407871\n"
     ]
    },
    {
     "name": "stderr",
     "output_type": "stream",
     "text": [
      "2025/09/20 12:55:45 WARNING mlflow.utils.autologging_utils: MLflow autologging encountered a warning: \"/Users/omar/.pyenv/versions/insurance/lib/python3.11/site-packages/mlflow/types/utils.py:452: UserWarning: Hint: Inferred schema contains integer column(s). Integer columns in Python cannot represent missing values. If your input data contains missing values at inference time, it will be encoded as floats and will cause a schema enforcement error. The best way to avoid this problem is to infer the model schema based on a realistic data sample (training dataset) that includes missing values. Alternatively, you can declare integer columns as doubles (float64) whenever these columns may have missing values. See `Handling Integers With Missing Values <https://www.mlflow.org/docs/latest/models.html#handling-integers-with-missing-values>`_ for more details.\"\n"
     ]
    },
    {
     "name": "stdout",
     "output_type": "stream",
     "text": [
      "Iteration 29, loss = 0.06565358\n",
      "Validation score: -0.067347\n",
      "Validation score did not improve more than tol=0.000100 for 10 consecutive epochs. Stopping.\n"
     ]
    },
    {
     "name": "stderr",
     "output_type": "stream",
     "text": [
      "2025/09/20 12:55:47 WARNING mlflow.utils.autologging_utils: MLflow autologging encountered a warning: \"/Users/omar/.pyenv/versions/insurance/lib/python3.11/site-packages/mlflow/types/utils.py:452: UserWarning: Hint: Inferred schema contains integer column(s). Integer columns in Python cannot represent missing values. If your input data contains missing values at inference time, it will be encoded as floats and will cause a schema enforcement error. The best way to avoid this problem is to infer the model schema based on a realistic data sample (training dataset) that includes missing values. Alternatively, you can declare integer columns as doubles (float64) whenever these columns may have missing values. See `Handling Integers With Missing Values <https://www.mlflow.org/docs/latest/models.html#handling-integers-with-missing-values>`_ for more details.\"\n"
     ]
    },
    {
     "name": "stdout",
     "output_type": "stream",
     "text": [
      "MAE: 0.0895274336379081\n",
      "R2: 0.8522993080756421\n",
      "🏃 View run neural_networks_2 at: http://127.0.0.1:5000/#/experiments/221207765889808369/runs/e56038d215e54b218f29a2a3ab63e4a2\n",
      "🧪 View experiment at: http://127.0.0.1:5000/#/experiments/221207765889808369\n"
     ]
    }
   ],
   "source": [
    "models = {\n",
    "    \"neural_networks\": {\n",
    "        \"model_type\": MLPRegressor,\n",
    "        \"params\": [\n",
    "            dict(\n",
    "                loss=\"squared_error\",\n",
    "                hidden_layer_sizes=(5000, 200),\n",
    "                activation=\"relu\",\n",
    "                solver=\"adam\",\n",
    "                learning_rate=\"adaptive\",\n",
    "                learning_rate_init=1e-3,\n",
    "                batch_size=128,\n",
    "                max_iter=200000,\n",
    "                random_state=seed,\n",
    "                early_stopping=True,\n",
    "                verbose=True,\n",
    "            ),\n",
    "            dict(\n",
    "                loss=\"squared_error\",\n",
    "                hidden_layer_sizes=(5000, 200),\n",
    "                activation=\"relu\",\n",
    "                solver=\"adam\",\n",
    "                learning_rate=\"adaptive\",\n",
    "                learning_rate_init=1e-2,\n",
    "                batch_size=8,\n",
    "                max_iter=200000,\n",
    "                random_state=seed,\n",
    "                early_stopping=True,\n",
    "                verbose=True,\n",
    "            ),\n",
    "            dict(\n",
    "                loss=\"squared_error\",\n",
    "                hidden_layer_sizes=(5000, 200),\n",
    "                activation=\"relu\",\n",
    "                solver=\"adam\",\n",
    "                learning_rate=\"adaptive\",\n",
    "                learning_rate_init=1e-2,\n",
    "                batch_size=32,\n",
    "                max_iter=200000,\n",
    "                random_state=seed,\n",
    "                early_stopping=True,\n",
    "                verbose=True,\n",
    "            ),\n",
    "        ],\n",
    "    },\n",
    "}\n",
    "\n",
    "from sklearn.metrics import mean_absolute_error, r2_score\n",
    "\n",
    "for m in models:\n",
    "    params = models[m][\"params\"]\n",
    "    m_type = models[m][\"model_type\"]\n",
    "\n",
    "    for i, p in enumerate(params):\n",
    "        model = m_type(**p)\n",
    "\n",
    "        run_name = f\"{m}_{i}\"\n",
    "        with mlflow.start_run(run_name=run_name):\n",
    "            model = model.fit(X_train, y_trainlog)\n",
    "            # print(model.score(X_test, y_test_log))\n",
    "\n",
    "            y_pred = model.predict(X_test)\n",
    "\n",
    "            mae = mean_absolute_error(y_test_log, y_pred)\n",
    "            r2 = r2_score(y_test_log, y_pred)\n",
    "\n",
    "            print(f\"MAE: {mae}\")\n",
    "            print(f\"R2: {r2}\")\n",
    "            mlflow.log_metric(\"mae\", mae)\n",
    "            mlflow.log_metric(\"r2\", r2)"
   ]
  },
  {
   "cell_type": "code",
   "execution_count": null,
   "metadata": {},
   "outputs": [],
   "source": []
  }
 ],
 "metadata": {
  "kernelspec": {
   "display_name": "insurance",
   "language": "python",
   "name": "python3"
  },
  "language_info": {
   "codemirror_mode": {
    "name": "ipython",
    "version": 3
   },
   "file_extension": ".py",
   "mimetype": "text/x-python",
   "name": "python",
   "nbconvert_exporter": "python",
   "pygments_lexer": "ipython3",
   "version": "3.11.4"
  },
  "orig_nbformat": 4
 },
 "nbformat": 4,
 "nbformat_minor": 2
}
